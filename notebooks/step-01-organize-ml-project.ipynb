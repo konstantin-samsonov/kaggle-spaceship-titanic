{
 "cells": [
  {
   "cell_type": "code",
   "execution_count": 1,
   "metadata": {
    "collapsed": true
   },
   "outputs": [],
   "source": [
    "import joblib\n",
    "import json\n",
    "import re\n",
    "import numpy as np\n",
    "import pandas as pd\n",
    "from sklearn.model_selection import train_test_split\n",
    "from sklearn.pipeline import Pipeline\n",
    "from sklearn.impute import SimpleImputer\n",
    "from sklearn.preprocessing import StandardScaler, OneHotEncoder\n",
    "from sklearn.compose import ColumnTransformer\n",
    "from sklearn.base import BaseEstimator, TransformerMixin\n",
    "from catboost import CatBoostClassifier\n",
    "from catboost import Pool"
   ]
  },
  {
   "cell_type": "markdown",
   "source": [
    "# Load dataset"
   ],
   "metadata": {
    "collapsed": false,
    "pycharm": {
     "name": "#%% md\n"
    }
   }
  },
  {
   "cell_type": "code",
   "execution_count": 2,
   "outputs": [],
   "source": [
    "data = pd.read_csv('../data/raw/train.csv')\n",
    "main_test = pd.read_csv('../data/raw/test.csv')"
   ],
   "metadata": {
    "collapsed": false,
    "pycharm": {
     "name": "#%%\n"
    }
   }
  },
  {
   "cell_type": "code",
   "execution_count": 3,
   "outputs": [
    {
     "data": {
      "text/plain": "     PassengerId HomePlanet CryoSleep     Cabin    Destination   Age    VIP  \\\n0        0001_01     Europa     False     B/0/P    TRAPPIST-1e  39.0  False   \n1        0002_01      Earth     False     F/0/S    TRAPPIST-1e  24.0  False   \n2        0003_01     Europa     False     A/0/S    TRAPPIST-1e  58.0   True   \n3        0003_02     Europa     False     A/0/S    TRAPPIST-1e  33.0  False   \n4        0004_01      Earth     False     F/1/S    TRAPPIST-1e  16.0  False   \n...          ...        ...       ...       ...            ...   ...    ...   \n8688     9276_01     Europa     False    A/98/P    55 Cancri e  41.0   True   \n8689     9278_01      Earth      True  G/1499/S  PSO J318.5-22  18.0  False   \n8690     9279_01      Earth     False  G/1500/S    TRAPPIST-1e  26.0  False   \n8691     9280_01     Europa     False   E/608/S    55 Cancri e  32.0  False   \n8692     9280_02     Europa     False   E/608/S    TRAPPIST-1e  44.0  False   \n\n      RoomService  FoodCourt  ShoppingMall     Spa  VRDeck               Name  \\\n0             0.0        0.0           0.0     0.0     0.0    Maham Ofracculy   \n1           109.0        9.0          25.0   549.0    44.0       Juanna Vines   \n2            43.0     3576.0           0.0  6715.0    49.0      Altark Susent   \n3             0.0     1283.0         371.0  3329.0   193.0       Solam Susent   \n4           303.0       70.0         151.0   565.0     2.0  Willy Santantines   \n...           ...        ...           ...     ...     ...                ...   \n8688          0.0     6819.0           0.0  1643.0    74.0  Gravior Noxnuther   \n8689          0.0        0.0           0.0     0.0     0.0    Kurta Mondalley   \n8690          0.0        0.0        1872.0     1.0     0.0       Fayey Connon   \n8691          0.0     1049.0           0.0   353.0  3235.0   Celeon Hontichre   \n8692        126.0     4688.0           0.0     0.0    12.0   Propsh Hontichre   \n\n      Transported  \n0           False  \n1            True  \n2           False  \n3           False  \n4            True  \n...           ...  \n8688        False  \n8689        False  \n8690         True  \n8691        False  \n8692         True  \n\n[8693 rows x 14 columns]",
      "text/html": "<div>\n<style scoped>\n    .dataframe tbody tr th:only-of-type {\n        vertical-align: middle;\n    }\n\n    .dataframe tbody tr th {\n        vertical-align: top;\n    }\n\n    .dataframe thead th {\n        text-align: right;\n    }\n</style>\n<table border=\"1\" class=\"dataframe\">\n  <thead>\n    <tr style=\"text-align: right;\">\n      <th></th>\n      <th>PassengerId</th>\n      <th>HomePlanet</th>\n      <th>CryoSleep</th>\n      <th>Cabin</th>\n      <th>Destination</th>\n      <th>Age</th>\n      <th>VIP</th>\n      <th>RoomService</th>\n      <th>FoodCourt</th>\n      <th>ShoppingMall</th>\n      <th>Spa</th>\n      <th>VRDeck</th>\n      <th>Name</th>\n      <th>Transported</th>\n    </tr>\n  </thead>\n  <tbody>\n    <tr>\n      <th>0</th>\n      <td>0001_01</td>\n      <td>Europa</td>\n      <td>False</td>\n      <td>B/0/P</td>\n      <td>TRAPPIST-1e</td>\n      <td>39.0</td>\n      <td>False</td>\n      <td>0.0</td>\n      <td>0.0</td>\n      <td>0.0</td>\n      <td>0.0</td>\n      <td>0.0</td>\n      <td>Maham Ofracculy</td>\n      <td>False</td>\n    </tr>\n    <tr>\n      <th>1</th>\n      <td>0002_01</td>\n      <td>Earth</td>\n      <td>False</td>\n      <td>F/0/S</td>\n      <td>TRAPPIST-1e</td>\n      <td>24.0</td>\n      <td>False</td>\n      <td>109.0</td>\n      <td>9.0</td>\n      <td>25.0</td>\n      <td>549.0</td>\n      <td>44.0</td>\n      <td>Juanna Vines</td>\n      <td>True</td>\n    </tr>\n    <tr>\n      <th>2</th>\n      <td>0003_01</td>\n      <td>Europa</td>\n      <td>False</td>\n      <td>A/0/S</td>\n      <td>TRAPPIST-1e</td>\n      <td>58.0</td>\n      <td>True</td>\n      <td>43.0</td>\n      <td>3576.0</td>\n      <td>0.0</td>\n      <td>6715.0</td>\n      <td>49.0</td>\n      <td>Altark Susent</td>\n      <td>False</td>\n    </tr>\n    <tr>\n      <th>3</th>\n      <td>0003_02</td>\n      <td>Europa</td>\n      <td>False</td>\n      <td>A/0/S</td>\n      <td>TRAPPIST-1e</td>\n      <td>33.0</td>\n      <td>False</td>\n      <td>0.0</td>\n      <td>1283.0</td>\n      <td>371.0</td>\n      <td>3329.0</td>\n      <td>193.0</td>\n      <td>Solam Susent</td>\n      <td>False</td>\n    </tr>\n    <tr>\n      <th>4</th>\n      <td>0004_01</td>\n      <td>Earth</td>\n      <td>False</td>\n      <td>F/1/S</td>\n      <td>TRAPPIST-1e</td>\n      <td>16.0</td>\n      <td>False</td>\n      <td>303.0</td>\n      <td>70.0</td>\n      <td>151.0</td>\n      <td>565.0</td>\n      <td>2.0</td>\n      <td>Willy Santantines</td>\n      <td>True</td>\n    </tr>\n    <tr>\n      <th>...</th>\n      <td>...</td>\n      <td>...</td>\n      <td>...</td>\n      <td>...</td>\n      <td>...</td>\n      <td>...</td>\n      <td>...</td>\n      <td>...</td>\n      <td>...</td>\n      <td>...</td>\n      <td>...</td>\n      <td>...</td>\n      <td>...</td>\n      <td>...</td>\n    </tr>\n    <tr>\n      <th>8688</th>\n      <td>9276_01</td>\n      <td>Europa</td>\n      <td>False</td>\n      <td>A/98/P</td>\n      <td>55 Cancri e</td>\n      <td>41.0</td>\n      <td>True</td>\n      <td>0.0</td>\n      <td>6819.0</td>\n      <td>0.0</td>\n      <td>1643.0</td>\n      <td>74.0</td>\n      <td>Gravior Noxnuther</td>\n      <td>False</td>\n    </tr>\n    <tr>\n      <th>8689</th>\n      <td>9278_01</td>\n      <td>Earth</td>\n      <td>True</td>\n      <td>G/1499/S</td>\n      <td>PSO J318.5-22</td>\n      <td>18.0</td>\n      <td>False</td>\n      <td>0.0</td>\n      <td>0.0</td>\n      <td>0.0</td>\n      <td>0.0</td>\n      <td>0.0</td>\n      <td>Kurta Mondalley</td>\n      <td>False</td>\n    </tr>\n    <tr>\n      <th>8690</th>\n      <td>9279_01</td>\n      <td>Earth</td>\n      <td>False</td>\n      <td>G/1500/S</td>\n      <td>TRAPPIST-1e</td>\n      <td>26.0</td>\n      <td>False</td>\n      <td>0.0</td>\n      <td>0.0</td>\n      <td>1872.0</td>\n      <td>1.0</td>\n      <td>0.0</td>\n      <td>Fayey Connon</td>\n      <td>True</td>\n    </tr>\n    <tr>\n      <th>8691</th>\n      <td>9280_01</td>\n      <td>Europa</td>\n      <td>False</td>\n      <td>E/608/S</td>\n      <td>55 Cancri e</td>\n      <td>32.0</td>\n      <td>False</td>\n      <td>0.0</td>\n      <td>1049.0</td>\n      <td>0.0</td>\n      <td>353.0</td>\n      <td>3235.0</td>\n      <td>Celeon Hontichre</td>\n      <td>False</td>\n    </tr>\n    <tr>\n      <th>8692</th>\n      <td>9280_02</td>\n      <td>Europa</td>\n      <td>False</td>\n      <td>E/608/S</td>\n      <td>TRAPPIST-1e</td>\n      <td>44.0</td>\n      <td>False</td>\n      <td>126.0</td>\n      <td>4688.0</td>\n      <td>0.0</td>\n      <td>0.0</td>\n      <td>12.0</td>\n      <td>Propsh Hontichre</td>\n      <td>True</td>\n    </tr>\n  </tbody>\n</table>\n<p>8693 rows × 14 columns</p>\n</div>"
     },
     "execution_count": 3,
     "metadata": {},
     "output_type": "execute_result"
    }
   ],
   "source": [
    "data"
   ],
   "metadata": {
    "collapsed": false,
    "pycharm": {
     "name": "#%%\n"
    }
   }
  },
  {
   "cell_type": "markdown",
   "source": [
    "# Features engineering"
   ],
   "metadata": {
    "collapsed": false,
    "pycharm": {
     "name": "#%% md\n"
    }
   }
  },
  {
   "cell_type": "code",
   "execution_count": 4,
   "outputs": [],
   "source": [
    "class TransformBooleanToNumeric(BaseEstimator, TransformerMixin):\n",
    "    def __init__(self, transform_boolean=True):\n",
    "        self.transform_boolean = transform_boolean\n",
    "\n",
    "    def fit(self, X, y=None):\n",
    "        return self\n",
    "\n",
    "    def transform(self, X):\n",
    "        if self.transform_boolean:\n",
    "            X = X.apply(lambda x: x * 1)\n",
    "            return X"
   ],
   "metadata": {
    "collapsed": false,
    "pycharm": {
     "name": "#%%\n"
    }
   }
  },
  {
   "cell_type": "code",
   "execution_count": 5,
   "outputs": [],
   "source": [
    "class TransformCategoricalValues(BaseEstimator, TransformerMixin):\n",
    "    def __init__(self, transform_categorical=True):\n",
    "        self.transform_categorical = transform_categorical\n",
    "\n",
    "    def fit(self, X, y=None):\n",
    "        return self\n",
    "\n",
    "    def transform(self, X):\n",
    "        if self.transform_categorical:\n",
    "            X['PassengerGroupId'] = X['PassengerId'].str.split('_', expand=True)[0]\n",
    "            X['PassengerGroupCount'] = X['PassengerId'].str.split('_', expand=True)[1]\n",
    "            X['CabinDesc'] = X['Cabin'].str.split('/', expand=True)[0]\n",
    "            X['CabinNumber'] = X['Cabin'].str.split('/', expand=True)[1]\n",
    "            X['CabinSide'] = X['Cabin'].str.split('/', expand=True)[2]\n",
    "\n",
    "            # X.drop(['PassengerId', 'Cabin'], axis=1, inplace=True)\n",
    "\n",
    "            X[['PassengerGroupId', 'PassengerGroupCount', 'CabinNumber']] = X[\n",
    "                ['PassengerGroupId', 'PassengerGroupCount', 'CabinNumber']].apply(pd.to_numeric)\n",
    "            return X\n",
    "        # else:\n",
    "        # return X"
   ],
   "metadata": {
    "collapsed": false,
    "pycharm": {
     "name": "#%%\n"
    }
   }
  },
  {
   "cell_type": "code",
   "execution_count": 6,
   "outputs": [],
   "source": [
    "def preprocess_pipeline(df):\n",
    "    \"\"\"Basic transformation\"\"\"\n",
    "\n",
    "    boolean_transform = Pipeline([('boolean_to_num', TransformBooleanToNumeric())])\n",
    "    categorical_split = Pipeline([('categorical_split', TransformCategoricalValues())])\n",
    "\n",
    "    df = boolean_transform.fit_transform(df)\n",
    "    df = categorical_split.fit_transform(df)\n",
    "\n",
    "    df[['PassengerId', 'Cabin', 'Name']] = df[['PassengerId', 'Cabin', 'Name']].astype('string')\n",
    "    df['Cabin'].fillna('no_data', inplace=True)\n",
    "    df['Name'].fillna('no_data', inplace=True)\n",
    "\n",
    "    return df"
   ],
   "metadata": {
    "collapsed": false,
    "pycharm": {
     "name": "#%%\n"
    }
   }
  },
  {
   "cell_type": "code",
   "execution_count": 7,
   "outputs": [
    {
     "data": {
      "text/plain": "     PassengerId HomePlanet CryoSleep     Cabin    Destination   Age VIP  \\\n0        0001_01     Europa         0     B/0/P    TRAPPIST-1e  39.0   0   \n1        0002_01      Earth         0     F/0/S    TRAPPIST-1e  24.0   0   \n2        0003_01     Europa         0     A/0/S    TRAPPIST-1e  58.0   1   \n3        0003_02     Europa         0     A/0/S    TRAPPIST-1e  33.0   0   \n4        0004_01      Earth         0     F/1/S    TRAPPIST-1e  16.0   0   \n...          ...        ...       ...       ...            ...   ...  ..   \n8688     9276_01     Europa         0    A/98/P    55 Cancri e  41.0   1   \n8689     9278_01      Earth         1  G/1499/S  PSO J318.5-22  18.0   0   \n8690     9279_01      Earth         0  G/1500/S    TRAPPIST-1e  26.0   0   \n8691     9280_01     Europa         0   E/608/S    55 Cancri e  32.0   0   \n8692     9280_02     Europa         0   E/608/S    TRAPPIST-1e  44.0   0   \n\n      RoomService  FoodCourt  ShoppingMall     Spa  VRDeck               Name  \\\n0             0.0        0.0           0.0     0.0     0.0    Maham Ofracculy   \n1           109.0        9.0          25.0   549.0    44.0       Juanna Vines   \n2            43.0     3576.0           0.0  6715.0    49.0      Altark Susent   \n3             0.0     1283.0         371.0  3329.0   193.0       Solam Susent   \n4           303.0       70.0         151.0   565.0     2.0  Willy Santantines   \n...           ...        ...           ...     ...     ...                ...   \n8688          0.0     6819.0           0.0  1643.0    74.0  Gravior Noxnuther   \n8689          0.0        0.0           0.0     0.0     0.0    Kurta Mondalley   \n8690          0.0        0.0        1872.0     1.0     0.0       Fayey Connon   \n8691          0.0     1049.0           0.0   353.0  3235.0   Celeon Hontichre   \n8692        126.0     4688.0           0.0     0.0    12.0   Propsh Hontichre   \n\n      Transported  PassengerGroupId  PassengerGroupCount CabinDesc  \\\n0               0                 1                    1         B   \n1               1                 2                    1         F   \n2               0                 3                    1         A   \n3               0                 3                    2         A   \n4               1                 4                    1         F   \n...           ...               ...                  ...       ...   \n8688            0              9276                    1         A   \n8689            0              9278                    1         G   \n8690            1              9279                    1         G   \n8691            0              9280                    1         E   \n8692            1              9280                    2         E   \n\n      CabinNumber CabinSide  \n0             0.0         P  \n1             0.0         S  \n2             0.0         S  \n3             0.0         S  \n4             1.0         S  \n...           ...       ...  \n8688         98.0         P  \n8689       1499.0         S  \n8690       1500.0         S  \n8691        608.0         S  \n8692        608.0         S  \n\n[8693 rows x 19 columns]",
      "text/html": "<div>\n<style scoped>\n    .dataframe tbody tr th:only-of-type {\n        vertical-align: middle;\n    }\n\n    .dataframe tbody tr th {\n        vertical-align: top;\n    }\n\n    .dataframe thead th {\n        text-align: right;\n    }\n</style>\n<table border=\"1\" class=\"dataframe\">\n  <thead>\n    <tr style=\"text-align: right;\">\n      <th></th>\n      <th>PassengerId</th>\n      <th>HomePlanet</th>\n      <th>CryoSleep</th>\n      <th>Cabin</th>\n      <th>Destination</th>\n      <th>Age</th>\n      <th>VIP</th>\n      <th>RoomService</th>\n      <th>FoodCourt</th>\n      <th>ShoppingMall</th>\n      <th>Spa</th>\n      <th>VRDeck</th>\n      <th>Name</th>\n      <th>Transported</th>\n      <th>PassengerGroupId</th>\n      <th>PassengerGroupCount</th>\n      <th>CabinDesc</th>\n      <th>CabinNumber</th>\n      <th>CabinSide</th>\n    </tr>\n  </thead>\n  <tbody>\n    <tr>\n      <th>0</th>\n      <td>0001_01</td>\n      <td>Europa</td>\n      <td>0</td>\n      <td>B/0/P</td>\n      <td>TRAPPIST-1e</td>\n      <td>39.0</td>\n      <td>0</td>\n      <td>0.0</td>\n      <td>0.0</td>\n      <td>0.0</td>\n      <td>0.0</td>\n      <td>0.0</td>\n      <td>Maham Ofracculy</td>\n      <td>0</td>\n      <td>1</td>\n      <td>1</td>\n      <td>B</td>\n      <td>0.0</td>\n      <td>P</td>\n    </tr>\n    <tr>\n      <th>1</th>\n      <td>0002_01</td>\n      <td>Earth</td>\n      <td>0</td>\n      <td>F/0/S</td>\n      <td>TRAPPIST-1e</td>\n      <td>24.0</td>\n      <td>0</td>\n      <td>109.0</td>\n      <td>9.0</td>\n      <td>25.0</td>\n      <td>549.0</td>\n      <td>44.0</td>\n      <td>Juanna Vines</td>\n      <td>1</td>\n      <td>2</td>\n      <td>1</td>\n      <td>F</td>\n      <td>0.0</td>\n      <td>S</td>\n    </tr>\n    <tr>\n      <th>2</th>\n      <td>0003_01</td>\n      <td>Europa</td>\n      <td>0</td>\n      <td>A/0/S</td>\n      <td>TRAPPIST-1e</td>\n      <td>58.0</td>\n      <td>1</td>\n      <td>43.0</td>\n      <td>3576.0</td>\n      <td>0.0</td>\n      <td>6715.0</td>\n      <td>49.0</td>\n      <td>Altark Susent</td>\n      <td>0</td>\n      <td>3</td>\n      <td>1</td>\n      <td>A</td>\n      <td>0.0</td>\n      <td>S</td>\n    </tr>\n    <tr>\n      <th>3</th>\n      <td>0003_02</td>\n      <td>Europa</td>\n      <td>0</td>\n      <td>A/0/S</td>\n      <td>TRAPPIST-1e</td>\n      <td>33.0</td>\n      <td>0</td>\n      <td>0.0</td>\n      <td>1283.0</td>\n      <td>371.0</td>\n      <td>3329.0</td>\n      <td>193.0</td>\n      <td>Solam Susent</td>\n      <td>0</td>\n      <td>3</td>\n      <td>2</td>\n      <td>A</td>\n      <td>0.0</td>\n      <td>S</td>\n    </tr>\n    <tr>\n      <th>4</th>\n      <td>0004_01</td>\n      <td>Earth</td>\n      <td>0</td>\n      <td>F/1/S</td>\n      <td>TRAPPIST-1e</td>\n      <td>16.0</td>\n      <td>0</td>\n      <td>303.0</td>\n      <td>70.0</td>\n      <td>151.0</td>\n      <td>565.0</td>\n      <td>2.0</td>\n      <td>Willy Santantines</td>\n      <td>1</td>\n      <td>4</td>\n      <td>1</td>\n      <td>F</td>\n      <td>1.0</td>\n      <td>S</td>\n    </tr>\n    <tr>\n      <th>...</th>\n      <td>...</td>\n      <td>...</td>\n      <td>...</td>\n      <td>...</td>\n      <td>...</td>\n      <td>...</td>\n      <td>...</td>\n      <td>...</td>\n      <td>...</td>\n      <td>...</td>\n      <td>...</td>\n      <td>...</td>\n      <td>...</td>\n      <td>...</td>\n      <td>...</td>\n      <td>...</td>\n      <td>...</td>\n      <td>...</td>\n      <td>...</td>\n    </tr>\n    <tr>\n      <th>8688</th>\n      <td>9276_01</td>\n      <td>Europa</td>\n      <td>0</td>\n      <td>A/98/P</td>\n      <td>55 Cancri e</td>\n      <td>41.0</td>\n      <td>1</td>\n      <td>0.0</td>\n      <td>6819.0</td>\n      <td>0.0</td>\n      <td>1643.0</td>\n      <td>74.0</td>\n      <td>Gravior Noxnuther</td>\n      <td>0</td>\n      <td>9276</td>\n      <td>1</td>\n      <td>A</td>\n      <td>98.0</td>\n      <td>P</td>\n    </tr>\n    <tr>\n      <th>8689</th>\n      <td>9278_01</td>\n      <td>Earth</td>\n      <td>1</td>\n      <td>G/1499/S</td>\n      <td>PSO J318.5-22</td>\n      <td>18.0</td>\n      <td>0</td>\n      <td>0.0</td>\n      <td>0.0</td>\n      <td>0.0</td>\n      <td>0.0</td>\n      <td>0.0</td>\n      <td>Kurta Mondalley</td>\n      <td>0</td>\n      <td>9278</td>\n      <td>1</td>\n      <td>G</td>\n      <td>1499.0</td>\n      <td>S</td>\n    </tr>\n    <tr>\n      <th>8690</th>\n      <td>9279_01</td>\n      <td>Earth</td>\n      <td>0</td>\n      <td>G/1500/S</td>\n      <td>TRAPPIST-1e</td>\n      <td>26.0</td>\n      <td>0</td>\n      <td>0.0</td>\n      <td>0.0</td>\n      <td>1872.0</td>\n      <td>1.0</td>\n      <td>0.0</td>\n      <td>Fayey Connon</td>\n      <td>1</td>\n      <td>9279</td>\n      <td>1</td>\n      <td>G</td>\n      <td>1500.0</td>\n      <td>S</td>\n    </tr>\n    <tr>\n      <th>8691</th>\n      <td>9280_01</td>\n      <td>Europa</td>\n      <td>0</td>\n      <td>E/608/S</td>\n      <td>55 Cancri e</td>\n      <td>32.0</td>\n      <td>0</td>\n      <td>0.0</td>\n      <td>1049.0</td>\n      <td>0.0</td>\n      <td>353.0</td>\n      <td>3235.0</td>\n      <td>Celeon Hontichre</td>\n      <td>0</td>\n      <td>9280</td>\n      <td>1</td>\n      <td>E</td>\n      <td>608.0</td>\n      <td>S</td>\n    </tr>\n    <tr>\n      <th>8692</th>\n      <td>9280_02</td>\n      <td>Europa</td>\n      <td>0</td>\n      <td>E/608/S</td>\n      <td>TRAPPIST-1e</td>\n      <td>44.0</td>\n      <td>0</td>\n      <td>126.0</td>\n      <td>4688.0</td>\n      <td>0.0</td>\n      <td>0.0</td>\n      <td>12.0</td>\n      <td>Propsh Hontichre</td>\n      <td>1</td>\n      <td>9280</td>\n      <td>2</td>\n      <td>E</td>\n      <td>608.0</td>\n      <td>S</td>\n    </tr>\n  </tbody>\n</table>\n<p>8693 rows × 19 columns</p>\n</div>"
     },
     "execution_count": 7,
     "metadata": {},
     "output_type": "execute_result"
    }
   ],
   "source": [
    "data_prepared = preprocess_pipeline(data)\n",
    "data_prepared"
   ],
   "metadata": {
    "collapsed": false,
    "pycharm": {
     "name": "#%%\n"
    }
   }
  },
  {
   "cell_type": "code",
   "execution_count": 8,
   "outputs": [],
   "source": [
    "categorical_features = ['HomePlanet', 'CryoSleep', 'Destination', 'VIP', 'PassengerGroupId',\n",
    "                        'PassengerGroupCount', 'CabinDesc', 'CabinNumber', 'CabinSide']\n",
    "numerical_features = ['Age', 'RoomService', 'FoodCourt', 'ShoppingMall', 'Spa', 'VRDeck']"
   ],
   "metadata": {
    "collapsed": false,
    "pycharm": {
     "name": "#%%\n"
    }
   }
  },
  {
   "cell_type": "code",
   "execution_count": 9,
   "outputs": [],
   "source": [
    "numeric_pipeline = Pipeline(\n",
    "    steps=[('imputer', SimpleImputer(strategy='median')),\n",
    "           ('std_scaler', StandardScaler())]\n",
    ")\n",
    "\n",
    "categorical_pipeline = Pipeline(\n",
    "    steps=[('no_data', SimpleImputer(strategy='most_frequent', missing_values=pd.NA))]\n",
    ")\n",
    "\n",
    "preprocessor = ColumnTransformer(\n",
    "    transformers=[\n",
    "        ('num', numeric_pipeline, numerical_features),\n",
    "        ('cat', categorical_pipeline, categorical_features)],\n",
    "    verbose_feature_names_out=False, remainder='passthrough')"
   ],
   "metadata": {
    "collapsed": false,
    "pycharm": {
     "name": "#%%\n"
    }
   }
  },
  {
   "cell_type": "code",
   "execution_count": 10,
   "outputs": [],
   "source": [
    "def creat_fin_data(df):\n",
    "    tmp = pd.DataFrame(\n",
    "        data=preprocessor.fit_transform(df),\n",
    "        columns=preprocessor.get_feature_names_out(),\n",
    "        index=df.index)\n",
    "\n",
    "    tmp['CabinNumber'] = tmp['CabinNumber'].astype('int')\n",
    "\n",
    "    return tmp"
   ],
   "metadata": {
    "collapsed": false,
    "pycharm": {
     "name": "#%%\n"
    }
   }
  },
  {
   "cell_type": "code",
   "execution_count": 11,
   "outputs": [],
   "source": [
    "data_prepared = creat_fin_data(data_prepared)"
   ],
   "metadata": {
    "collapsed": false,
    "pycharm": {
     "name": "#%%\n"
    }
   }
  },
  {
   "cell_type": "markdown",
   "source": [
    "# Split dataset"
   ],
   "metadata": {
    "collapsed": false,
    "pycharm": {
     "name": "#%% md\n"
    }
   }
  },
  {
   "cell_type": "code",
   "execution_count": 12,
   "outputs": [],
   "source": [
    "train_set, validation_set = train_test_split(data_prepared, train_size=0.85, random_state=42,\n",
    "                                             stratify=data_prepared['Transported'])"
   ],
   "metadata": {
    "collapsed": false,
    "pycharm": {
     "name": "#%%\n"
    }
   }
  },
  {
   "cell_type": "markdown",
   "source": [
    "# Train"
   ],
   "metadata": {
    "collapsed": false,
    "pycharm": {
     "name": "#%% md\n"
    }
   }
  },
  {
   "cell_type": "code",
   "execution_count": 13,
   "outputs": [],
   "source": [
    "X = ['Age', 'RoomService', 'FoodCourt', 'ShoppingMall', 'Spa', 'VRDeck',\n",
    "     'HomePlanet', 'CryoSleep', 'Destination', 'VIP', 'PassengerGroupId',\n",
    "     'PassengerGroupCount', 'CabinDesc', 'CabinNumber', 'CabinSide']  #, 'PassengerId', 'Cabin', 'Name']\n",
    "cat_features = ['HomePlanet', 'CryoSleep', 'Destination', 'VIP', 'PassengerGroupId',\n",
    "                'PassengerGroupCount', 'CabinDesc', 'CabinNumber', 'CabinSide']\n",
    "text_features = ['PassengerId', 'Cabin', 'Name']\n",
    "y = ['Transported']"
   ],
   "metadata": {
    "collapsed": false,
    "pycharm": {
     "name": "#%%\n"
    }
   }
  },
  {
   "cell_type": "code",
   "execution_count": 14,
   "outputs": [],
   "source": [
    "train_data = Pool(data=train_set[X],\n",
    "                  label=train_set[y],\n",
    "                  cat_features=cat_features,\n",
    "                  # text_features=text_features\n",
    "                  )\n",
    "\n",
    "valid_data = Pool(data=validation_set[X],\n",
    "                  label=validation_set[y],\n",
    "                  cat_features=cat_features,\n",
    "                  # text_features=text_features\n",
    "                  )"
   ],
   "metadata": {
    "collapsed": false,
    "pycharm": {
     "name": "#%%\n"
    }
   }
  },
  {
   "cell_type": "code",
   "execution_count": 36,
   "outputs": [],
   "source": [
    "params = {'verbose': 100,\n",
    "          'random_seed': 42,\n",
    "          'learning_rate': 0.1,\n",
    "          'eval_metric': 'Accuracy'}"
   ],
   "metadata": {
    "collapsed": false,
    "pycharm": {
     "name": "#%%\n"
    }
   }
  },
  {
   "cell_type": "code",
   "execution_count": 37,
   "outputs": [],
   "source": [
    "model = CatBoostClassifier(**params)"
   ],
   "metadata": {
    "collapsed": false,
    "pycharm": {
     "name": "#%%\n"
    }
   }
  },
  {
   "cell_type": "code",
   "execution_count": 38,
   "outputs": [
    {
     "name": "stdout",
     "output_type": "stream",
     "text": [
      "0:\tlearn: 0.7383949\ttest: 0.7216258\tbest: 0.7216258 (0)\ttotal: 6.9ms\tremaining: 6.89s\n",
      "100:\tlearn: 0.8209501\ttest: 0.8044479\tbest: 0.8082822 (68)\ttotal: 766ms\tremaining: 6.82s\n",
      "200:\tlearn: 0.8432806\ttest: 0.8006135\tbest: 0.8082822 (68)\ttotal: 1.5s\tremaining: 5.96s\n",
      "300:\tlearn: 0.8581675\ttest: 0.8059816\tbest: 0.8082822 (68)\ttotal: 2.17s\tremaining: 5.04s\n",
      "400:\tlearn: 0.8731899\ttest: 0.8059816\tbest: 0.8090491 (305)\ttotal: 2.86s\tremaining: 4.27s\n",
      "500:\tlearn: 0.8826634\ttest: 0.8090491\tbest: 0.8113497 (461)\ttotal: 3.56s\tremaining: 3.55s\n",
      "600:\tlearn: 0.8911896\ttest: 0.8144172\tbest: 0.8167178 (569)\ttotal: 4.25s\tremaining: 2.82s\n",
      "700:\tlearn: 0.9014752\ttest: 0.8082822\tbest: 0.8167178 (569)\ttotal: 4.94s\tremaining: 2.11s\n",
      "800:\tlearn: 0.9112194\ttest: 0.8151840\tbest: 0.8167178 (569)\ttotal: 5.63s\tremaining: 1.4s\n",
      "900:\tlearn: 0.9200162\ttest: 0.8105828\tbest: 0.8167178 (569)\ttotal: 6.29s\tremaining: 691ms\n",
      "999:\tlearn: 0.9281364\ttest: 0.8052147\tbest: 0.8167178 (569)\ttotal: 7.01s\tremaining: 0us\n",
      "\n",
      "bestTest = 0.8167177914\n",
      "bestIteration = 569\n",
      "\n",
      "Shrink model to first 570 iterations.\n"
     ]
    },
    {
     "data": {
      "text/plain": "<catboost.core.CatBoostClassifier at 0x16ca3be80>"
     },
     "execution_count": 38,
     "metadata": {},
     "output_type": "execute_result"
    }
   ],
   "source": [
    "model.fit(train_data, eval_set=valid_data)"
   ],
   "metadata": {
    "collapsed": false,
    "pycharm": {
     "name": "#%%\n"
    }
   }
  },
  {
   "cell_type": "markdown",
   "source": [
    "# Predict"
   ],
   "metadata": {
    "collapsed": false,
    "pycharm": {
     "name": "#%% md\n"
    }
   }
  },
  {
   "cell_type": "code",
   "execution_count": 39,
   "outputs": [],
   "source": [
    "main_test_prepared = preprocess_pipeline(main_test)\n",
    "main_test_prepared = creat_fin_data(main_test_prepared)"
   ],
   "metadata": {
    "collapsed": false,
    "pycharm": {
     "name": "#%%\n"
    }
   }
  },
  {
   "cell_type": "code",
   "execution_count": 40,
   "outputs": [],
   "source": [
    "main_test_prepared['Transported'] = model.predict(main_test_prepared[X])"
   ],
   "metadata": {
    "collapsed": false,
    "pycharm": {
     "name": "#%%\n"
    }
   }
  },
  {
   "cell_type": "code",
   "execution_count": 41,
   "outputs": [
    {
     "data": {
      "text/plain": "           Age RoomService FoodCourt ShoppingMall       Spa    VRDeck  \\\n0    -0.114147   -0.357339  -0.28384    -0.312173 -0.267841 -0.246712   \n1    -0.684313   -0.357339 -0.277879    -0.312173  2.287504 -0.246712   \n2     0.170937   -0.357339  -0.28384    -0.312173 -0.267841 -0.246712   \n3     0.669832   -0.357339  4.121518    -0.312173 -0.104002  0.226648   \n4    -0.613042   -0.340723  -0.28384     0.832122 -0.267841 -0.246712   \n...        ...         ...       ...          ...       ...       ...   \n4272  0.384749   -0.357339  -0.28384    -0.312173 -0.267841 -0.246712   \n4273  0.954916   -0.357339  0.277095    -0.281538  -0.25879 -0.130193   \n4274 -0.185417   -0.357339  -0.28384    -0.312173 -0.267841 -0.246712   \n4275 -0.185417   -0.357339  1.491019    -0.312173 -0.267841  0.176479   \n4276  1.026186   -0.357339  -0.28384    -0.312173 -0.267841 -0.246712   \n\n     HomePlanet CryoSleep    Destination VIP PassengerGroupId  \\\n0         Earth         1    TRAPPIST-1e   0               13   \n1         Earth         0    TRAPPIST-1e   0               18   \n2        Europa         1    55 Cancri e   0               19   \n3        Europa         0    TRAPPIST-1e   0               21   \n4         Earth         0    TRAPPIST-1e   0               23   \n...         ...       ...            ...  ..              ...   \n4272      Earth         1    TRAPPIST-1e   0             9266   \n4273      Earth         0    TRAPPIST-1e   0             9269   \n4274       Mars         1    55 Cancri e   0             9271   \n4275     Europa         0    TRAPPIST-1e   0             9273   \n4276      Earth         1  PSO J318.5-22   0             9277   \n\n     PassengerGroupCount CabinDesc  CabinNumber CabinSide PassengerId  \\\n0                      1         G            3         S     0013_01   \n1                      1         F            4         S     0018_01   \n2                      1         C            0         S     0019_01   \n3                      1         C            1         S     0021_01   \n4                      1         F            5         S     0023_01   \n...                  ...       ...          ...       ...         ...   \n4272                   2         G         1496         S     9266_02   \n4273                   1         F            4         S     9269_01   \n4274                   1         D          296         P     9271_01   \n4275                   1         D          297         P     9273_01   \n4276                   1         G         1498         S     9277_01   \n\n         Cabin              Name  Transported  \n0        G/3/S   Nelly Carsoning            1  \n1        F/4/S    Lerome Peckers            0  \n2        C/0/S   Sabih Unhearfus            1  \n3        C/1/S  Meratz Caltilter            1  \n4        F/5/S   Brence Harperez            1  \n...        ...               ...          ...  \n4272  G/1496/S       Jeron Peter            1  \n4273   no_data     Matty Scheron            1  \n4274   D/296/P       Jayrin Pore            1  \n4275   D/297/P    Kitakan Conale            1  \n4276  G/1498/S  Lilace Leonzaley            1  \n\n[4277 rows x 19 columns]",
      "text/html": "<div>\n<style scoped>\n    .dataframe tbody tr th:only-of-type {\n        vertical-align: middle;\n    }\n\n    .dataframe tbody tr th {\n        vertical-align: top;\n    }\n\n    .dataframe thead th {\n        text-align: right;\n    }\n</style>\n<table border=\"1\" class=\"dataframe\">\n  <thead>\n    <tr style=\"text-align: right;\">\n      <th></th>\n      <th>Age</th>\n      <th>RoomService</th>\n      <th>FoodCourt</th>\n      <th>ShoppingMall</th>\n      <th>Spa</th>\n      <th>VRDeck</th>\n      <th>HomePlanet</th>\n      <th>CryoSleep</th>\n      <th>Destination</th>\n      <th>VIP</th>\n      <th>PassengerGroupId</th>\n      <th>PassengerGroupCount</th>\n      <th>CabinDesc</th>\n      <th>CabinNumber</th>\n      <th>CabinSide</th>\n      <th>PassengerId</th>\n      <th>Cabin</th>\n      <th>Name</th>\n      <th>Transported</th>\n    </tr>\n  </thead>\n  <tbody>\n    <tr>\n      <th>0</th>\n      <td>-0.114147</td>\n      <td>-0.357339</td>\n      <td>-0.28384</td>\n      <td>-0.312173</td>\n      <td>-0.267841</td>\n      <td>-0.246712</td>\n      <td>Earth</td>\n      <td>1</td>\n      <td>TRAPPIST-1e</td>\n      <td>0</td>\n      <td>13</td>\n      <td>1</td>\n      <td>G</td>\n      <td>3</td>\n      <td>S</td>\n      <td>0013_01</td>\n      <td>G/3/S</td>\n      <td>Nelly Carsoning</td>\n      <td>1</td>\n    </tr>\n    <tr>\n      <th>1</th>\n      <td>-0.684313</td>\n      <td>-0.357339</td>\n      <td>-0.277879</td>\n      <td>-0.312173</td>\n      <td>2.287504</td>\n      <td>-0.246712</td>\n      <td>Earth</td>\n      <td>0</td>\n      <td>TRAPPIST-1e</td>\n      <td>0</td>\n      <td>18</td>\n      <td>1</td>\n      <td>F</td>\n      <td>4</td>\n      <td>S</td>\n      <td>0018_01</td>\n      <td>F/4/S</td>\n      <td>Lerome Peckers</td>\n      <td>0</td>\n    </tr>\n    <tr>\n      <th>2</th>\n      <td>0.170937</td>\n      <td>-0.357339</td>\n      <td>-0.28384</td>\n      <td>-0.312173</td>\n      <td>-0.267841</td>\n      <td>-0.246712</td>\n      <td>Europa</td>\n      <td>1</td>\n      <td>55 Cancri e</td>\n      <td>0</td>\n      <td>19</td>\n      <td>1</td>\n      <td>C</td>\n      <td>0</td>\n      <td>S</td>\n      <td>0019_01</td>\n      <td>C/0/S</td>\n      <td>Sabih Unhearfus</td>\n      <td>1</td>\n    </tr>\n    <tr>\n      <th>3</th>\n      <td>0.669832</td>\n      <td>-0.357339</td>\n      <td>4.121518</td>\n      <td>-0.312173</td>\n      <td>-0.104002</td>\n      <td>0.226648</td>\n      <td>Europa</td>\n      <td>0</td>\n      <td>TRAPPIST-1e</td>\n      <td>0</td>\n      <td>21</td>\n      <td>1</td>\n      <td>C</td>\n      <td>1</td>\n      <td>S</td>\n      <td>0021_01</td>\n      <td>C/1/S</td>\n      <td>Meratz Caltilter</td>\n      <td>1</td>\n    </tr>\n    <tr>\n      <th>4</th>\n      <td>-0.613042</td>\n      <td>-0.340723</td>\n      <td>-0.28384</td>\n      <td>0.832122</td>\n      <td>-0.267841</td>\n      <td>-0.246712</td>\n      <td>Earth</td>\n      <td>0</td>\n      <td>TRAPPIST-1e</td>\n      <td>0</td>\n      <td>23</td>\n      <td>1</td>\n      <td>F</td>\n      <td>5</td>\n      <td>S</td>\n      <td>0023_01</td>\n      <td>F/5/S</td>\n      <td>Brence Harperez</td>\n      <td>1</td>\n    </tr>\n    <tr>\n      <th>...</th>\n      <td>...</td>\n      <td>...</td>\n      <td>...</td>\n      <td>...</td>\n      <td>...</td>\n      <td>...</td>\n      <td>...</td>\n      <td>...</td>\n      <td>...</td>\n      <td>...</td>\n      <td>...</td>\n      <td>...</td>\n      <td>...</td>\n      <td>...</td>\n      <td>...</td>\n      <td>...</td>\n      <td>...</td>\n      <td>...</td>\n      <td>...</td>\n    </tr>\n    <tr>\n      <th>4272</th>\n      <td>0.384749</td>\n      <td>-0.357339</td>\n      <td>-0.28384</td>\n      <td>-0.312173</td>\n      <td>-0.267841</td>\n      <td>-0.246712</td>\n      <td>Earth</td>\n      <td>1</td>\n      <td>TRAPPIST-1e</td>\n      <td>0</td>\n      <td>9266</td>\n      <td>2</td>\n      <td>G</td>\n      <td>1496</td>\n      <td>S</td>\n      <td>9266_02</td>\n      <td>G/1496/S</td>\n      <td>Jeron Peter</td>\n      <td>1</td>\n    </tr>\n    <tr>\n      <th>4273</th>\n      <td>0.954916</td>\n      <td>-0.357339</td>\n      <td>0.277095</td>\n      <td>-0.281538</td>\n      <td>-0.25879</td>\n      <td>-0.130193</td>\n      <td>Earth</td>\n      <td>0</td>\n      <td>TRAPPIST-1e</td>\n      <td>0</td>\n      <td>9269</td>\n      <td>1</td>\n      <td>F</td>\n      <td>4</td>\n      <td>S</td>\n      <td>9269_01</td>\n      <td>no_data</td>\n      <td>Matty Scheron</td>\n      <td>1</td>\n    </tr>\n    <tr>\n      <th>4274</th>\n      <td>-0.185417</td>\n      <td>-0.357339</td>\n      <td>-0.28384</td>\n      <td>-0.312173</td>\n      <td>-0.267841</td>\n      <td>-0.246712</td>\n      <td>Mars</td>\n      <td>1</td>\n      <td>55 Cancri e</td>\n      <td>0</td>\n      <td>9271</td>\n      <td>1</td>\n      <td>D</td>\n      <td>296</td>\n      <td>P</td>\n      <td>9271_01</td>\n      <td>D/296/P</td>\n      <td>Jayrin Pore</td>\n      <td>1</td>\n    </tr>\n    <tr>\n      <th>4275</th>\n      <td>-0.185417</td>\n      <td>-0.357339</td>\n      <td>1.491019</td>\n      <td>-0.312173</td>\n      <td>-0.267841</td>\n      <td>0.176479</td>\n      <td>Europa</td>\n      <td>0</td>\n      <td>TRAPPIST-1e</td>\n      <td>0</td>\n      <td>9273</td>\n      <td>1</td>\n      <td>D</td>\n      <td>297</td>\n      <td>P</td>\n      <td>9273_01</td>\n      <td>D/297/P</td>\n      <td>Kitakan Conale</td>\n      <td>1</td>\n    </tr>\n    <tr>\n      <th>4276</th>\n      <td>1.026186</td>\n      <td>-0.357339</td>\n      <td>-0.28384</td>\n      <td>-0.312173</td>\n      <td>-0.267841</td>\n      <td>-0.246712</td>\n      <td>Earth</td>\n      <td>1</td>\n      <td>PSO J318.5-22</td>\n      <td>0</td>\n      <td>9277</td>\n      <td>1</td>\n      <td>G</td>\n      <td>1498</td>\n      <td>S</td>\n      <td>9277_01</td>\n      <td>G/1498/S</td>\n      <td>Lilace Leonzaley</td>\n      <td>1</td>\n    </tr>\n  </tbody>\n</table>\n<p>4277 rows × 19 columns</p>\n</div>"
     },
     "execution_count": 41,
     "metadata": {},
     "output_type": "execute_result"
    }
   ],
   "source": [
    "main_test_prepared"
   ],
   "metadata": {
    "collapsed": false,
    "pycharm": {
     "name": "#%%\n"
    }
   }
  },
  {
   "cell_type": "code",
   "execution_count": 56,
   "outputs": [],
   "source": [
    "results = main_test_prepared[['PassengerId', 'Transported']].copy()\n",
    "results['Transported'] = results['Transported'].map({1: True, 0: False})\n",
    "results.to_csv('../data/processed/submissions.csv', index=False)"
   ],
   "metadata": {
    "collapsed": false,
    "pycharm": {
     "name": "#%%\n"
    }
   }
  },
  {
   "cell_type": "markdown",
   "source": [
    "# Evaluate"
   ],
   "metadata": {
    "collapsed": false
   }
  },
  {
   "cell_type": "code",
   "execution_count": 69,
   "outputs": [
    {
     "data": {
      "text/plain": "569"
     },
     "execution_count": 69,
     "metadata": {},
     "output_type": "execute_result"
    }
   ],
   "source": [
    "model.get_best_iteration()"
   ],
   "metadata": {
    "collapsed": false,
    "pycharm": {
     "name": "#%%\n"
    }
   }
  },
  {
   "cell_type": "code",
   "execution_count": 76,
   "outputs": [],
   "source": [
    "kaggle_public_score = 0.79214\n",
    "\n",
    "reports = {\n",
    "    'params': model.get_params(),\n",
    "    'validation_best_score': model.get_best_score()['validation'],\n",
    "    'validation_best_iteration': model.get_best_iteration(),\n",
    "    'kaggle_public_score': kaggle_public_score,\n",
    "    'kaggle_score_minus_validation_score': kaggle_public_score - model.get_best_score()['validation']['Accuracy']\n",
    "}"
   ],
   "metadata": {
    "collapsed": false,
    "pycharm": {
     "name": "#%%\n"
    }
   }
  },
  {
   "cell_type": "code",
   "execution_count": 79,
   "outputs": [],
   "source": [
    "metrics_file = '../reports/metrics.json'\n",
    "\n",
    "with open(metrics_file, 'w') as mf:\n",
    "    json.dump(\n",
    "        obj=reports,\n",
    "        fp=mf,\n",
    "        indent=4\n",
    "    )"
   ],
   "metadata": {
    "collapsed": false,
    "pycharm": {
     "name": "#%%\n"
    }
   }
  },
  {
   "cell_type": "code",
   "execution_count": 80,
   "outputs": [
    {
     "data": {
      "text/plain": "['../models/model.joblib']"
     },
     "execution_count": 80,
     "metadata": {},
     "output_type": "execute_result"
    }
   ],
   "source": [
    "# Save model\n",
    "model_path = '../models/model.joblib'\n",
    "joblib.dump(model, model_path)"
   ],
   "metadata": {
    "collapsed": false,
    "pycharm": {
     "name": "#%%\n"
    }
   }
  },
  {
   "cell_type": "code",
   "execution_count": 81,
   "outputs": [],
   "source": [
    "# Save features\n",
    "features_path = '../data/processed/featured_spaceship-titanic.csv'\n",
    "data_prepared.to_csv(features_path, index=False)\n",
    "\n",
    "# Save train and test sets\n",
    "train_set_path = '../data/processed/train_spaceship-titanic.csv'\n",
    "validation_set_path = '../data/processed/validation_spaceship-titanic.csv'\n",
    "train_set.to_csv(train_set_path)\n",
    "validation_set.to_csv(validation_set_path)"
   ],
   "metadata": {
    "collapsed": false,
    "pycharm": {
     "name": "#%%\n"
    }
   }
  },
  {
   "cell_type": "code",
   "execution_count": null,
   "outputs": [],
   "source": [],
   "metadata": {
    "collapsed": false,
    "pycharm": {
     "name": "#%%\n"
    }
   }
  }
 ],
 "metadata": {
  "kernelspec": {
   "display_name": "Python 3",
   "language": "python",
   "name": "python3"
  },
  "language_info": {
   "codemirror_mode": {
    "name": "ipython",
    "version": 2
   },
   "file_extension": ".py",
   "mimetype": "text/x-python",
   "name": "python",
   "nbconvert_exporter": "python",
   "pygments_lexer": "ipython2",
   "version": "2.7.6"
  }
 },
 "nbformat": 4,
 "nbformat_minor": 0
}