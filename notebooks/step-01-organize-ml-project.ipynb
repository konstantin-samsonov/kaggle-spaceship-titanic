{
 "cells": [
  {
   "cell_type": "code",
   "execution_count": 1,
   "metadata": {
    "collapsed": true
   },
   "outputs": [],
   "source": [
    "import joblib\n",
    "import json\n",
    "import re\n",
    "import numpy as np\n",
    "import pandas as pd\n",
    "from sklearn.model_selection import train_test_split\n",
    "from sklearn.pipeline import Pipeline\n",
    "from sklearn.impute import SimpleImputer\n",
    "from sklearn.preprocessing import StandardScaler, OneHotEncoder\n",
    "from sklearn.compose import ColumnTransformer\n",
    "from sklearn.base import BaseEstimator, TransformerMixin\n",
    "from catboost import CatBoostClassifier\n",
    "from catboost import Pool"
   ]
  },
  {
   "cell_type": "markdown",
   "source": [
    "# Load dataset"
   ],
   "metadata": {
    "collapsed": false,
    "pycharm": {
     "name": "#%% md\n"
    }
   }
  },
  {
   "cell_type": "code",
   "execution_count": 2,
   "outputs": [],
   "source": [
    "data = pd.read_csv('../data/raw/train.csv')\n",
    "main_test = pd.read_csv('../data/raw/test.csv')"
   ],
   "metadata": {
    "collapsed": false,
    "pycharm": {
     "name": "#%%\n"
    }
   }
  },
  {
   "cell_type": "code",
   "execution_count": 3,
   "outputs": [
    {
     "data": {
      "text/plain": "     PassengerId HomePlanet CryoSleep     Cabin    Destination   Age    VIP  \\\n0        0001_01     Europa     False     B/0/P    TRAPPIST-1e  39.0  False   \n1        0002_01      Earth     False     F/0/S    TRAPPIST-1e  24.0  False   \n2        0003_01     Europa     False     A/0/S    TRAPPIST-1e  58.0   True   \n3        0003_02     Europa     False     A/0/S    TRAPPIST-1e  33.0  False   \n4        0004_01      Earth     False     F/1/S    TRAPPIST-1e  16.0  False   \n...          ...        ...       ...       ...            ...   ...    ...   \n8688     9276_01     Europa     False    A/98/P    55 Cancri e  41.0   True   \n8689     9278_01      Earth      True  G/1499/S  PSO J318.5-22  18.0  False   \n8690     9279_01      Earth     False  G/1500/S    TRAPPIST-1e  26.0  False   \n8691     9280_01     Europa     False   E/608/S    55 Cancri e  32.0  False   \n8692     9280_02     Europa     False   E/608/S    TRAPPIST-1e  44.0  False   \n\n      RoomService  FoodCourt  ShoppingMall     Spa  VRDeck               Name  \\\n0             0.0        0.0           0.0     0.0     0.0    Maham Ofracculy   \n1           109.0        9.0          25.0   549.0    44.0       Juanna Vines   \n2            43.0     3576.0           0.0  6715.0    49.0      Altark Susent   \n3             0.0     1283.0         371.0  3329.0   193.0       Solam Susent   \n4           303.0       70.0         151.0   565.0     2.0  Willy Santantines   \n...           ...        ...           ...     ...     ...                ...   \n8688          0.0     6819.0           0.0  1643.0    74.0  Gravior Noxnuther   \n8689          0.0        0.0           0.0     0.0     0.0    Kurta Mondalley   \n8690          0.0        0.0        1872.0     1.0     0.0       Fayey Connon   \n8691          0.0     1049.0           0.0   353.0  3235.0   Celeon Hontichre   \n8692        126.0     4688.0           0.0     0.0    12.0   Propsh Hontichre   \n\n      Transported  \n0           False  \n1            True  \n2           False  \n3           False  \n4            True  \n...           ...  \n8688        False  \n8689        False  \n8690         True  \n8691        False  \n8692         True  \n\n[8693 rows x 14 columns]",
      "text/html": "<div>\n<style scoped>\n    .dataframe tbody tr th:only-of-type {\n        vertical-align: middle;\n    }\n\n    .dataframe tbody tr th {\n        vertical-align: top;\n    }\n\n    .dataframe thead th {\n        text-align: right;\n    }\n</style>\n<table border=\"1\" class=\"dataframe\">\n  <thead>\n    <tr style=\"text-align: right;\">\n      <th></th>\n      <th>PassengerId</th>\n      <th>HomePlanet</th>\n      <th>CryoSleep</th>\n      <th>Cabin</th>\n      <th>Destination</th>\n      <th>Age</th>\n      <th>VIP</th>\n      <th>RoomService</th>\n      <th>FoodCourt</th>\n      <th>ShoppingMall</th>\n      <th>Spa</th>\n      <th>VRDeck</th>\n      <th>Name</th>\n      <th>Transported</th>\n    </tr>\n  </thead>\n  <tbody>\n    <tr>\n      <th>0</th>\n      <td>0001_01</td>\n      <td>Europa</td>\n      <td>False</td>\n      <td>B/0/P</td>\n      <td>TRAPPIST-1e</td>\n      <td>39.0</td>\n      <td>False</td>\n      <td>0.0</td>\n      <td>0.0</td>\n      <td>0.0</td>\n      <td>0.0</td>\n      <td>0.0</td>\n      <td>Maham Ofracculy</td>\n      <td>False</td>\n    </tr>\n    <tr>\n      <th>1</th>\n      <td>0002_01</td>\n      <td>Earth</td>\n      <td>False</td>\n      <td>F/0/S</td>\n      <td>TRAPPIST-1e</td>\n      <td>24.0</td>\n      <td>False</td>\n      <td>109.0</td>\n      <td>9.0</td>\n      <td>25.0</td>\n      <td>549.0</td>\n      <td>44.0</td>\n      <td>Juanna Vines</td>\n      <td>True</td>\n    </tr>\n    <tr>\n      <th>2</th>\n      <td>0003_01</td>\n      <td>Europa</td>\n      <td>False</td>\n      <td>A/0/S</td>\n      <td>TRAPPIST-1e</td>\n      <td>58.0</td>\n      <td>True</td>\n      <td>43.0</td>\n      <td>3576.0</td>\n      <td>0.0</td>\n      <td>6715.0</td>\n      <td>49.0</td>\n      <td>Altark Susent</td>\n      <td>False</td>\n    </tr>\n    <tr>\n      <th>3</th>\n      <td>0003_02</td>\n      <td>Europa</td>\n      <td>False</td>\n      <td>A/0/S</td>\n      <td>TRAPPIST-1e</td>\n      <td>33.0</td>\n      <td>False</td>\n      <td>0.0</td>\n      <td>1283.0</td>\n      <td>371.0</td>\n      <td>3329.0</td>\n      <td>193.0</td>\n      <td>Solam Susent</td>\n      <td>False</td>\n    </tr>\n    <tr>\n      <th>4</th>\n      <td>0004_01</td>\n      <td>Earth</td>\n      <td>False</td>\n      <td>F/1/S</td>\n      <td>TRAPPIST-1e</td>\n      <td>16.0</td>\n      <td>False</td>\n      <td>303.0</td>\n      <td>70.0</td>\n      <td>151.0</td>\n      <td>565.0</td>\n      <td>2.0</td>\n      <td>Willy Santantines</td>\n      <td>True</td>\n    </tr>\n    <tr>\n      <th>...</th>\n      <td>...</td>\n      <td>...</td>\n      <td>...</td>\n      <td>...</td>\n      <td>...</td>\n      <td>...</td>\n      <td>...</td>\n      <td>...</td>\n      <td>...</td>\n      <td>...</td>\n      <td>...</td>\n      <td>...</td>\n      <td>...</td>\n      <td>...</td>\n    </tr>\n    <tr>\n      <th>8688</th>\n      <td>9276_01</td>\n      <td>Europa</td>\n      <td>False</td>\n      <td>A/98/P</td>\n      <td>55 Cancri e</td>\n      <td>41.0</td>\n      <td>True</td>\n      <td>0.0</td>\n      <td>6819.0</td>\n      <td>0.0</td>\n      <td>1643.0</td>\n      <td>74.0</td>\n      <td>Gravior Noxnuther</td>\n      <td>False</td>\n    </tr>\n    <tr>\n      <th>8689</th>\n      <td>9278_01</td>\n      <td>Earth</td>\n      <td>True</td>\n      <td>G/1499/S</td>\n      <td>PSO J318.5-22</td>\n      <td>18.0</td>\n      <td>False</td>\n      <td>0.0</td>\n      <td>0.0</td>\n      <td>0.0</td>\n      <td>0.0</td>\n      <td>0.0</td>\n      <td>Kurta Mondalley</td>\n      <td>False</td>\n    </tr>\n    <tr>\n      <th>8690</th>\n      <td>9279_01</td>\n      <td>Earth</td>\n      <td>False</td>\n      <td>G/1500/S</td>\n      <td>TRAPPIST-1e</td>\n      <td>26.0</td>\n      <td>False</td>\n      <td>0.0</td>\n      <td>0.0</td>\n      <td>1872.0</td>\n      <td>1.0</td>\n      <td>0.0</td>\n      <td>Fayey Connon</td>\n      <td>True</td>\n    </tr>\n    <tr>\n      <th>8691</th>\n      <td>9280_01</td>\n      <td>Europa</td>\n      <td>False</td>\n      <td>E/608/S</td>\n      <td>55 Cancri e</td>\n      <td>32.0</td>\n      <td>False</td>\n      <td>0.0</td>\n      <td>1049.0</td>\n      <td>0.0</td>\n      <td>353.0</td>\n      <td>3235.0</td>\n      <td>Celeon Hontichre</td>\n      <td>False</td>\n    </tr>\n    <tr>\n      <th>8692</th>\n      <td>9280_02</td>\n      <td>Europa</td>\n      <td>False</td>\n      <td>E/608/S</td>\n      <td>TRAPPIST-1e</td>\n      <td>44.0</td>\n      <td>False</td>\n      <td>126.0</td>\n      <td>4688.0</td>\n      <td>0.0</td>\n      <td>0.0</td>\n      <td>12.0</td>\n      <td>Propsh Hontichre</td>\n      <td>True</td>\n    </tr>\n  </tbody>\n</table>\n<p>8693 rows × 14 columns</p>\n</div>"
     },
     "execution_count": 3,
     "metadata": {},
     "output_type": "execute_result"
    }
   ],
   "source": [
    "data"
   ],
   "metadata": {
    "collapsed": false,
    "pycharm": {
     "name": "#%%\n"
    }
   }
  },
  {
   "cell_type": "markdown",
   "source": [
    "# Features engineering"
   ],
   "metadata": {
    "collapsed": false,
    "pycharm": {
     "name": "#%% md\n"
    }
   }
  },
  {
   "cell_type": "code",
   "execution_count": 4,
   "outputs": [],
   "source": [
    "class TransformBooleanToNumeric(BaseEstimator, TransformerMixin):\n",
    "    def __init__(self, transform_boolean=True):\n",
    "        self.transform_boolean = transform_boolean\n",
    "\n",
    "    def fit(self, X, y=None):\n",
    "        return self\n",
    "\n",
    "    def transform(self, X):\n",
    "        if self.transform_boolean:\n",
    "            X = X.apply(lambda x: x * 1)\n",
    "            return X"
   ],
   "metadata": {
    "collapsed": false,
    "pycharm": {
     "name": "#%%\n"
    }
   }
  },
  {
   "cell_type": "code",
   "execution_count": 5,
   "outputs": [],
   "source": [
    "class TransformCategoricalValues(BaseEstimator, TransformerMixin):\n",
    "    def __init__(self, transform_categorical=True):\n",
    "        self.transform_categorical = transform_categorical\n",
    "\n",
    "    def fit(self, X, y=None):\n",
    "        return self\n",
    "\n",
    "    def transform(self, X):\n",
    "        if self.transform_categorical:\n",
    "            X['PassengerGroupId'] = X['PassengerId'].str.split('_', expand=True)[0]\n",
    "            X['PassengerGroupCount'] = X['PassengerId'].str.split('_', expand=True)[1]\n",
    "            X['CabinDesc'] = X['Cabin'].str.split('/', expand=True)[0]\n",
    "            X['CabinNumber'] = X['Cabin'].str.split('/', expand=True)[1]\n",
    "            X['CabinSide'] = X['Cabin'].str.split('/', expand=True)[2]\n",
    "\n",
    "            X.drop(['PassengerId', 'Cabin'], axis=1, inplace=True)\n",
    "\n",
    "            X[['PassengerGroupId', 'PassengerGroupCount', 'CabinNumber']] = X[\n",
    "                ['PassengerGroupId', 'PassengerGroupCount', 'CabinNumber']].apply(pd.to_numeric)\n",
    "            return X\n",
    "        # else:\n",
    "        # return X"
   ],
   "metadata": {
    "collapsed": false,
    "pycharm": {
     "name": "#%%\n"
    }
   }
  },
  {
   "cell_type": "code",
   "execution_count": 6,
   "outputs": [],
   "source": [
    "def preprocess_pipeline(df):\n",
    "    \"\"\"Basic transformation\"\"\"\n",
    "\n",
    "    boolean_transform = Pipeline([('boolean_to_num', TransformBooleanToNumeric())])\n",
    "    categorical_split = Pipeline([('categorical_split', TransformCategoricalValues())])\n",
    "\n",
    "    df = boolean_transform.fit_transform(df)\n",
    "    df = categorical_split.fit_transform(df)\n",
    "\n",
    "    return df"
   ],
   "metadata": {
    "collapsed": false,
    "pycharm": {
     "name": "#%%\n"
    }
   }
  },
  {
   "cell_type": "code",
   "execution_count": 7,
   "outputs": [
    {
     "data": {
      "text/plain": "     HomePlanet CryoSleep    Destination   Age VIP  RoomService  FoodCourt  \\\n0        Europa         0    TRAPPIST-1e  39.0   0          0.0        0.0   \n1         Earth         0    TRAPPIST-1e  24.0   0        109.0        9.0   \n2        Europa         0    TRAPPIST-1e  58.0   1         43.0     3576.0   \n3        Europa         0    TRAPPIST-1e  33.0   0          0.0     1283.0   \n4         Earth         0    TRAPPIST-1e  16.0   0        303.0       70.0   \n...         ...       ...            ...   ...  ..          ...        ...   \n8688     Europa         0    55 Cancri e  41.0   1          0.0     6819.0   \n8689      Earth         1  PSO J318.5-22  18.0   0          0.0        0.0   \n8690      Earth         0    TRAPPIST-1e  26.0   0          0.0        0.0   \n8691     Europa         0    55 Cancri e  32.0   0          0.0     1049.0   \n8692     Europa         0    TRAPPIST-1e  44.0   0        126.0     4688.0   \n\n      ShoppingMall     Spa  VRDeck               Name  Transported  \\\n0              0.0     0.0     0.0    Maham Ofracculy            0   \n1             25.0   549.0    44.0       Juanna Vines            1   \n2              0.0  6715.0    49.0      Altark Susent            0   \n3            371.0  3329.0   193.0       Solam Susent            0   \n4            151.0   565.0     2.0  Willy Santantines            1   \n...            ...     ...     ...                ...          ...   \n8688           0.0  1643.0    74.0  Gravior Noxnuther            0   \n8689           0.0     0.0     0.0    Kurta Mondalley            0   \n8690        1872.0     1.0     0.0       Fayey Connon            1   \n8691           0.0   353.0  3235.0   Celeon Hontichre            0   \n8692           0.0     0.0    12.0   Propsh Hontichre            1   \n\n      PassengerGroupId  PassengerGroupCount CabinDesc  CabinNumber CabinSide  \n0                    1                    1         B          0.0         P  \n1                    2                    1         F          0.0         S  \n2                    3                    1         A          0.0         S  \n3                    3                    2         A          0.0         S  \n4                    4                    1         F          1.0         S  \n...                ...                  ...       ...          ...       ...  \n8688              9276                    1         A         98.0         P  \n8689              9278                    1         G       1499.0         S  \n8690              9279                    1         G       1500.0         S  \n8691              9280                    1         E        608.0         S  \n8692              9280                    2         E        608.0         S  \n\n[8693 rows x 17 columns]",
      "text/html": "<div>\n<style scoped>\n    .dataframe tbody tr th:only-of-type {\n        vertical-align: middle;\n    }\n\n    .dataframe tbody tr th {\n        vertical-align: top;\n    }\n\n    .dataframe thead th {\n        text-align: right;\n    }\n</style>\n<table border=\"1\" class=\"dataframe\">\n  <thead>\n    <tr style=\"text-align: right;\">\n      <th></th>\n      <th>HomePlanet</th>\n      <th>CryoSleep</th>\n      <th>Destination</th>\n      <th>Age</th>\n      <th>VIP</th>\n      <th>RoomService</th>\n      <th>FoodCourt</th>\n      <th>ShoppingMall</th>\n      <th>Spa</th>\n      <th>VRDeck</th>\n      <th>Name</th>\n      <th>Transported</th>\n      <th>PassengerGroupId</th>\n      <th>PassengerGroupCount</th>\n      <th>CabinDesc</th>\n      <th>CabinNumber</th>\n      <th>CabinSide</th>\n    </tr>\n  </thead>\n  <tbody>\n    <tr>\n      <th>0</th>\n      <td>Europa</td>\n      <td>0</td>\n      <td>TRAPPIST-1e</td>\n      <td>39.0</td>\n      <td>0</td>\n      <td>0.0</td>\n      <td>0.0</td>\n      <td>0.0</td>\n      <td>0.0</td>\n      <td>0.0</td>\n      <td>Maham Ofracculy</td>\n      <td>0</td>\n      <td>1</td>\n      <td>1</td>\n      <td>B</td>\n      <td>0.0</td>\n      <td>P</td>\n    </tr>\n    <tr>\n      <th>1</th>\n      <td>Earth</td>\n      <td>0</td>\n      <td>TRAPPIST-1e</td>\n      <td>24.0</td>\n      <td>0</td>\n      <td>109.0</td>\n      <td>9.0</td>\n      <td>25.0</td>\n      <td>549.0</td>\n      <td>44.0</td>\n      <td>Juanna Vines</td>\n      <td>1</td>\n      <td>2</td>\n      <td>1</td>\n      <td>F</td>\n      <td>0.0</td>\n      <td>S</td>\n    </tr>\n    <tr>\n      <th>2</th>\n      <td>Europa</td>\n      <td>0</td>\n      <td>TRAPPIST-1e</td>\n      <td>58.0</td>\n      <td>1</td>\n      <td>43.0</td>\n      <td>3576.0</td>\n      <td>0.0</td>\n      <td>6715.0</td>\n      <td>49.0</td>\n      <td>Altark Susent</td>\n      <td>0</td>\n      <td>3</td>\n      <td>1</td>\n      <td>A</td>\n      <td>0.0</td>\n      <td>S</td>\n    </tr>\n    <tr>\n      <th>3</th>\n      <td>Europa</td>\n      <td>0</td>\n      <td>TRAPPIST-1e</td>\n      <td>33.0</td>\n      <td>0</td>\n      <td>0.0</td>\n      <td>1283.0</td>\n      <td>371.0</td>\n      <td>3329.0</td>\n      <td>193.0</td>\n      <td>Solam Susent</td>\n      <td>0</td>\n      <td>3</td>\n      <td>2</td>\n      <td>A</td>\n      <td>0.0</td>\n      <td>S</td>\n    </tr>\n    <tr>\n      <th>4</th>\n      <td>Earth</td>\n      <td>0</td>\n      <td>TRAPPIST-1e</td>\n      <td>16.0</td>\n      <td>0</td>\n      <td>303.0</td>\n      <td>70.0</td>\n      <td>151.0</td>\n      <td>565.0</td>\n      <td>2.0</td>\n      <td>Willy Santantines</td>\n      <td>1</td>\n      <td>4</td>\n      <td>1</td>\n      <td>F</td>\n      <td>1.0</td>\n      <td>S</td>\n    </tr>\n    <tr>\n      <th>...</th>\n      <td>...</td>\n      <td>...</td>\n      <td>...</td>\n      <td>...</td>\n      <td>...</td>\n      <td>...</td>\n      <td>...</td>\n      <td>...</td>\n      <td>...</td>\n      <td>...</td>\n      <td>...</td>\n      <td>...</td>\n      <td>...</td>\n      <td>...</td>\n      <td>...</td>\n      <td>...</td>\n      <td>...</td>\n    </tr>\n    <tr>\n      <th>8688</th>\n      <td>Europa</td>\n      <td>0</td>\n      <td>55 Cancri e</td>\n      <td>41.0</td>\n      <td>1</td>\n      <td>0.0</td>\n      <td>6819.0</td>\n      <td>0.0</td>\n      <td>1643.0</td>\n      <td>74.0</td>\n      <td>Gravior Noxnuther</td>\n      <td>0</td>\n      <td>9276</td>\n      <td>1</td>\n      <td>A</td>\n      <td>98.0</td>\n      <td>P</td>\n    </tr>\n    <tr>\n      <th>8689</th>\n      <td>Earth</td>\n      <td>1</td>\n      <td>PSO J318.5-22</td>\n      <td>18.0</td>\n      <td>0</td>\n      <td>0.0</td>\n      <td>0.0</td>\n      <td>0.0</td>\n      <td>0.0</td>\n      <td>0.0</td>\n      <td>Kurta Mondalley</td>\n      <td>0</td>\n      <td>9278</td>\n      <td>1</td>\n      <td>G</td>\n      <td>1499.0</td>\n      <td>S</td>\n    </tr>\n    <tr>\n      <th>8690</th>\n      <td>Earth</td>\n      <td>0</td>\n      <td>TRAPPIST-1e</td>\n      <td>26.0</td>\n      <td>0</td>\n      <td>0.0</td>\n      <td>0.0</td>\n      <td>1872.0</td>\n      <td>1.0</td>\n      <td>0.0</td>\n      <td>Fayey Connon</td>\n      <td>1</td>\n      <td>9279</td>\n      <td>1</td>\n      <td>G</td>\n      <td>1500.0</td>\n      <td>S</td>\n    </tr>\n    <tr>\n      <th>8691</th>\n      <td>Europa</td>\n      <td>0</td>\n      <td>55 Cancri e</td>\n      <td>32.0</td>\n      <td>0</td>\n      <td>0.0</td>\n      <td>1049.0</td>\n      <td>0.0</td>\n      <td>353.0</td>\n      <td>3235.0</td>\n      <td>Celeon Hontichre</td>\n      <td>0</td>\n      <td>9280</td>\n      <td>1</td>\n      <td>E</td>\n      <td>608.0</td>\n      <td>S</td>\n    </tr>\n    <tr>\n      <th>8692</th>\n      <td>Europa</td>\n      <td>0</td>\n      <td>TRAPPIST-1e</td>\n      <td>44.0</td>\n      <td>0</td>\n      <td>126.0</td>\n      <td>4688.0</td>\n      <td>0.0</td>\n      <td>0.0</td>\n      <td>12.0</td>\n      <td>Propsh Hontichre</td>\n      <td>1</td>\n      <td>9280</td>\n      <td>2</td>\n      <td>E</td>\n      <td>608.0</td>\n      <td>S</td>\n    </tr>\n  </tbody>\n</table>\n<p>8693 rows × 17 columns</p>\n</div>"
     },
     "execution_count": 7,
     "metadata": {},
     "output_type": "execute_result"
    }
   ],
   "source": [
    "data_prepared = preprocess_pipeline(data)\n",
    "data_prepared"
   ],
   "metadata": {
    "collapsed": false,
    "pycharm": {
     "name": "#%%\n"
    }
   }
  },
  {
   "cell_type": "code",
   "execution_count": 8,
   "outputs": [],
   "source": [
    "categorical_features = ['HomePlanet', 'CryoSleep', 'Destination', 'VIP', 'PassengerGroupId',\n",
    "                        'PassengerGroupCount', 'CabinDesc', 'CabinNumber', 'CabinSide']\n",
    "numerical_features = ['Age', 'RoomService', 'FoodCourt', 'ShoppingMall', 'Spa', 'VRDeck']"
   ],
   "metadata": {
    "collapsed": false,
    "pycharm": {
     "name": "#%%\n"
    }
   }
  },
  {
   "cell_type": "code",
   "execution_count": 9,
   "outputs": [],
   "source": [
    "numeric_pipeline = Pipeline(\n",
    "    steps=[('imputer', SimpleImputer(strategy='median')),\n",
    "           ('std_scaler', StandardScaler())]\n",
    ")\n",
    "\n",
    "categorical_pipeline = Pipeline(\n",
    "    steps=[('no_data', SimpleImputer(strategy='most_frequent', missing_values=pd.NA))]\n",
    ")\n",
    "\n",
    "preprocessor = ColumnTransformer(\n",
    "    transformers=[\n",
    "        ('num', numeric_pipeline, numerical_features),\n",
    "        ('cat', categorical_pipeline, categorical_features)],\n",
    "    verbose_feature_names_out=False, remainder='passthrough')"
   ],
   "metadata": {
    "collapsed": false,
    "pycharm": {
     "name": "#%%\n"
    }
   }
  },
  {
   "cell_type": "code",
   "execution_count": 10,
   "outputs": [],
   "source": [
    "def creat_fin_data(df):\n",
    "    tmp = pd.DataFrame(\n",
    "        data=preprocessor.fit_transform(df),\n",
    "        columns=preprocessor.get_feature_names_out(),\n",
    "        index=df.index)\n",
    "\n",
    "    tmp['CabinNumber'] = tmp['CabinNumber'].astype('int')\n",
    "\n",
    "    return tmp"
   ],
   "metadata": {
    "collapsed": false,
    "pycharm": {
     "name": "#%%\n"
    }
   }
  },
  {
   "cell_type": "code",
   "execution_count": 11,
   "outputs": [],
   "source": [
    "data_prepared = creat_fin_data(data_prepared)"
   ],
   "metadata": {
    "collapsed": false,
    "pycharm": {
     "name": "#%%\n"
    }
   }
  },
  {
   "cell_type": "code",
   "execution_count": 12,
   "outputs": [],
   "source": [
    "# Save features\n",
    "features_path = '../data/processed/featured_spaceship-titanic.csv'\n",
    "data_prepared.to_csv(features_path, index=False)"
   ],
   "metadata": {
    "collapsed": false,
    "pycharm": {
     "name": "#%%\n"
    }
   }
  },
  {
   "cell_type": "markdown",
   "source": [
    "# Split dataset"
   ],
   "metadata": {
    "collapsed": false,
    "pycharm": {
     "name": "#%% md\n"
    }
   }
  },
  {
   "cell_type": "code",
   "execution_count": 13,
   "outputs": [],
   "source": [
    "train_set, validation_set = train_test_split(data_prepared, train_size=0.85, random_state=42,\n",
    "                                             stratify=data_prepared['Transported'])"
   ],
   "metadata": {
    "collapsed": false,
    "pycharm": {
     "name": "#%%\n"
    }
   }
  },
  {
   "cell_type": "code",
   "execution_count": 14,
   "outputs": [],
   "source": [
    "# Save train and test sets\n",
    "train_set_path = '../data/processed/train_spaceship-titanic.csv'\n",
    "validation_set_path = '../data/processed/validation_spaceship-titanic.csv'\n",
    "\n",
    "train_set.to_csv(train_set_path)\n",
    "validation_set.to_csv(validation_set_path)"
   ],
   "metadata": {
    "collapsed": false,
    "pycharm": {
     "name": "#%%\n"
    }
   }
  },
  {
   "cell_type": "markdown",
   "source": [
    "# Train"
   ],
   "metadata": {
    "collapsed": false,
    "pycharm": {
     "name": "#%% md\n"
    }
   }
  },
  {
   "cell_type": "code",
   "execution_count": 15,
   "outputs": [],
   "source": [
    "X = ['Age', 'RoomService', 'FoodCourt', 'ShoppingMall', 'Spa', 'VRDeck',\n",
    "     'HomePlanet', 'CryoSleep', 'Destination', 'VIP', 'PassengerGroupId',\n",
    "     'PassengerGroupCount', 'CabinDesc', 'CabinNumber', 'CabinSide']  # 'Name',\n",
    "cat_features = ['HomePlanet', 'CryoSleep', 'Destination', 'VIP', 'PassengerGroupId',\n",
    "                'PassengerGroupCount', 'CabinDesc', 'CabinNumber', 'CabinSide']\n",
    "y = ['Transported']"
   ],
   "metadata": {
    "collapsed": false,
    "pycharm": {
     "name": "#%%\n"
    }
   }
  },
  {
   "cell_type": "code",
   "execution_count": 16,
   "outputs": [],
   "source": [
    "train_data = Pool(data=train_set[X],\n",
    "                  label=train_set[y],\n",
    "                  cat_features=cat_features,\n",
    "                  # text_features=text_features\n",
    "                  )\n",
    "\n",
    "valid_data = Pool(data=validation_set[X],\n",
    "                  label=validation_set[y],\n",
    "                  cat_features=cat_features,\n",
    "                  # text_features=text_features\n",
    "                  )"
   ],
   "metadata": {
    "collapsed": false,
    "pycharm": {
     "name": "#%%\n"
    }
   }
  },
  {
   "cell_type": "code",
   "execution_count": 17,
   "outputs": [],
   "source": [
    "params = {'verbose': 100,\n",
    "          'random_seed': 42,\n",
    "          'learning_rate': 0.1,\n",
    "          'eval_metric': 'Accuracy'}"
   ],
   "metadata": {
    "collapsed": false,
    "pycharm": {
     "name": "#%%\n"
    }
   }
  },
  {
   "cell_type": "code",
   "execution_count": 18,
   "outputs": [],
   "source": [
    "model = CatBoostClassifier(**params)"
   ],
   "metadata": {
    "collapsed": false,
    "pycharm": {
     "name": "#%%\n"
    }
   }
  },
  {
   "cell_type": "code",
   "execution_count": 19,
   "outputs": [
    {
     "name": "stdout",
     "output_type": "stream",
     "text": [
      "0:\tlearn: 0.7383949\ttest: 0.7216258\tbest: 0.7216258 (0)\ttotal: 63.8ms\tremaining: 1m 3s\n",
      "100:\tlearn: 0.8209501\ttest: 0.8044479\tbest: 0.8082822 (68)\ttotal: 1.14s\tremaining: 10.1s\n",
      "200:\tlearn: 0.8432806\ttest: 0.8006135\tbest: 0.8082822 (68)\ttotal: 2.92s\tremaining: 11.6s\n",
      "300:\tlearn: 0.8581675\ttest: 0.8059816\tbest: 0.8082822 (68)\ttotal: 3.93s\tremaining: 9.12s\n",
      "400:\tlearn: 0.8731899\ttest: 0.8059816\tbest: 0.8090491 (305)\ttotal: 5.1s\tremaining: 7.62s\n",
      "500:\tlearn: 0.8826634\ttest: 0.8090491\tbest: 0.8113497 (461)\ttotal: 5.97s\tremaining: 5.94s\n",
      "600:\tlearn: 0.8911896\ttest: 0.8144172\tbest: 0.8167178 (569)\ttotal: 6.85s\tremaining: 4.55s\n",
      "700:\tlearn: 0.9014752\ttest: 0.8082822\tbest: 0.8167178 (569)\ttotal: 7.63s\tremaining: 3.25s\n",
      "800:\tlearn: 0.9112194\ttest: 0.8151840\tbest: 0.8167178 (569)\ttotal: 8.32s\tremaining: 2.07s\n",
      "900:\tlearn: 0.9200162\ttest: 0.8105828\tbest: 0.8167178 (569)\ttotal: 8.95s\tremaining: 983ms\n",
      "999:\tlearn: 0.9281364\ttest: 0.8052147\tbest: 0.8167178 (569)\ttotal: 9.56s\tremaining: 0us\n",
      "\n",
      "bestTest = 0.8167177914\n",
      "bestIteration = 569\n",
      "\n",
      "Shrink model to first 570 iterations.\n"
     ]
    },
    {
     "data": {
      "text/plain": "<catboost.core.CatBoostClassifier at 0x16e1c7370>"
     },
     "execution_count": 19,
     "metadata": {},
     "output_type": "execute_result"
    }
   ],
   "source": [
    "model.fit(train_data, eval_set=valid_data)"
   ],
   "metadata": {
    "collapsed": false,
    "pycharm": {
     "name": "#%%\n"
    }
   }
  },
  {
   "cell_type": "code",
   "execution_count": 20,
   "outputs": [
    {
     "data": {
      "text/plain": "['../models/model.joblib']"
     },
     "execution_count": 20,
     "metadata": {},
     "output_type": "execute_result"
    }
   ],
   "source": [
    "model_path = '../models/model.joblib'\n",
    "joblib.dump(model, model_path)"
   ],
   "metadata": {
    "collapsed": false,
    "pycharm": {
     "name": "#%%\n"
    }
   }
  },
  {
   "cell_type": "markdown",
   "source": [
    "# Evaluate"
   ],
   "metadata": {
    "collapsed": false,
    "pycharm": {
     "name": "#%% md\n"
    }
   }
  },
  {
   "cell_type": "code",
   "execution_count": 26,
   "outputs": [
    {
     "data": {
      "text/plain": "{'learn': {'Accuracy': 0.928136419001218, 'Logloss': 0.21539589347804486},\n 'validation': {'Accuracy': 0.816717791411043, 'Logloss': 0.3951064255883237}}"
     },
     "execution_count": 26,
     "metadata": {},
     "output_type": "execute_result"
    }
   ],
   "source": [
    "model.get_best_score()"
   ],
   "metadata": {
    "collapsed": false,
    "pycharm": {
     "name": "#%%\n"
    }
   }
  },
  {
   "cell_type": "code",
   "execution_count": 31,
   "outputs": [],
   "source": [
    "# Save metrics\n",
    "metrics_file = '../reports/metrics.json'\n",
    "\n",
    "with open(metrics_file, 'w') as mf:\n",
    "    json.dump(\n",
    "        obj=model.get_best_score(),\n",
    "        fp=mf,\n",
    "        indent=4\n",
    "    )"
   ],
   "metadata": {
    "collapsed": false,
    "pycharm": {
     "name": "#%%\n"
    }
   }
  },
  {
   "cell_type": "code",
   "execution_count": null,
   "outputs": [],
   "source": [],
   "metadata": {
    "collapsed": false,
    "pycharm": {
     "name": "#%%\n"
    }
   }
  }
 ],
 "metadata": {
  "kernelspec": {
   "display_name": "Python 3",
   "language": "python",
   "name": "python3"
  },
  "language_info": {
   "codemirror_mode": {
    "name": "ipython",
    "version": 2
   },
   "file_extension": ".py",
   "mimetype": "text/x-python",
   "name": "python",
   "nbconvert_exporter": "python",
   "pygments_lexer": "ipython2",
   "version": "2.7.6"
  }
 },
 "nbformat": 4,
 "nbformat_minor": 0
}