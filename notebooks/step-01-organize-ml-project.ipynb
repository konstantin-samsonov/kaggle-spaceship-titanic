{
 "cells": [
  {
   "cell_type": "code",
   "execution_count": 1,
   "metadata": {
    "collapsed": true
   },
   "outputs": [],
   "source": [
    "import joblib\n",
    "import json\n",
    "import pandas as pd\n",
    "from sklearn.model_selection import train_test_split\n",
    "from sklearn.pipeline import Pipeline\n",
    "from sklearn.impute import SimpleImputer\n",
    "from sklearn.preprocessing import StandardScaler, OneHotEncoder\n",
    "from sklearn.compose import ColumnTransformer\n",
    "from sklearn.base import BaseEstimator, TransformerMixin\n",
    "from catboost import CatBoostClassifier\n",
    "from catboost import Pool"
   ]
  },
  {
   "cell_type": "markdown",
   "source": [
    "# Load dataset"
   ],
   "metadata": {
    "collapsed": false,
    "pycharm": {
     "name": "#%% md\n"
    }
   }
  },
  {
   "cell_type": "code",
   "execution_count": 45,
   "outputs": [],
   "source": [
    "data = pd.read_csv('../data/raw/train.csv')"
   ],
   "metadata": {
    "collapsed": false,
    "pycharm": {
     "name": "#%%\n"
    }
   }
  },
  {
   "cell_type": "code",
   "execution_count": 46,
   "outputs": [
    {
     "data": {
      "text/plain": "     PassengerId HomePlanet CryoSleep     Cabin    Destination   Age    VIP  \\\n0        0001_01     Europa     False     B/0/P    TRAPPIST-1e  39.0  False   \n1        0002_01      Earth     False     F/0/S    TRAPPIST-1e  24.0  False   \n2        0003_01     Europa     False     A/0/S    TRAPPIST-1e  58.0   True   \n3        0003_02     Europa     False     A/0/S    TRAPPIST-1e  33.0  False   \n4        0004_01      Earth     False     F/1/S    TRAPPIST-1e  16.0  False   \n...          ...        ...       ...       ...            ...   ...    ...   \n8688     9276_01     Europa     False    A/98/P    55 Cancri e  41.0   True   \n8689     9278_01      Earth      True  G/1499/S  PSO J318.5-22  18.0  False   \n8690     9279_01      Earth     False  G/1500/S    TRAPPIST-1e  26.0  False   \n8691     9280_01     Europa     False   E/608/S    55 Cancri e  32.0  False   \n8692     9280_02     Europa     False   E/608/S    TRAPPIST-1e  44.0  False   \n\n      RoomService  FoodCourt  ShoppingMall     Spa  VRDeck               Name  \\\n0             0.0        0.0           0.0     0.0     0.0    Maham Ofracculy   \n1           109.0        9.0          25.0   549.0    44.0       Juanna Vines   \n2            43.0     3576.0           0.0  6715.0    49.0      Altark Susent   \n3             0.0     1283.0         371.0  3329.0   193.0       Solam Susent   \n4           303.0       70.0         151.0   565.0     2.0  Willy Santantines   \n...           ...        ...           ...     ...     ...                ...   \n8688          0.0     6819.0           0.0  1643.0    74.0  Gravior Noxnuther   \n8689          0.0        0.0           0.0     0.0     0.0    Kurta Mondalley   \n8690          0.0        0.0        1872.0     1.0     0.0       Fayey Connon   \n8691          0.0     1049.0           0.0   353.0  3235.0   Celeon Hontichre   \n8692        126.0     4688.0           0.0     0.0    12.0   Propsh Hontichre   \n\n      Transported  \n0           False  \n1            True  \n2           False  \n3           False  \n4            True  \n...           ...  \n8688        False  \n8689        False  \n8690         True  \n8691        False  \n8692         True  \n\n[8693 rows x 14 columns]",
      "text/html": "<div>\n<style scoped>\n    .dataframe tbody tr th:only-of-type {\n        vertical-align: middle;\n    }\n\n    .dataframe tbody tr th {\n        vertical-align: top;\n    }\n\n    .dataframe thead th {\n        text-align: right;\n    }\n</style>\n<table border=\"1\" class=\"dataframe\">\n  <thead>\n    <tr style=\"text-align: right;\">\n      <th></th>\n      <th>PassengerId</th>\n      <th>HomePlanet</th>\n      <th>CryoSleep</th>\n      <th>Cabin</th>\n      <th>Destination</th>\n      <th>Age</th>\n      <th>VIP</th>\n      <th>RoomService</th>\n      <th>FoodCourt</th>\n      <th>ShoppingMall</th>\n      <th>Spa</th>\n      <th>VRDeck</th>\n      <th>Name</th>\n      <th>Transported</th>\n    </tr>\n  </thead>\n  <tbody>\n    <tr>\n      <th>0</th>\n      <td>0001_01</td>\n      <td>Europa</td>\n      <td>False</td>\n      <td>B/0/P</td>\n      <td>TRAPPIST-1e</td>\n      <td>39.0</td>\n      <td>False</td>\n      <td>0.0</td>\n      <td>0.0</td>\n      <td>0.0</td>\n      <td>0.0</td>\n      <td>0.0</td>\n      <td>Maham Ofracculy</td>\n      <td>False</td>\n    </tr>\n    <tr>\n      <th>1</th>\n      <td>0002_01</td>\n      <td>Earth</td>\n      <td>False</td>\n      <td>F/0/S</td>\n      <td>TRAPPIST-1e</td>\n      <td>24.0</td>\n      <td>False</td>\n      <td>109.0</td>\n      <td>9.0</td>\n      <td>25.0</td>\n      <td>549.0</td>\n      <td>44.0</td>\n      <td>Juanna Vines</td>\n      <td>True</td>\n    </tr>\n    <tr>\n      <th>2</th>\n      <td>0003_01</td>\n      <td>Europa</td>\n      <td>False</td>\n      <td>A/0/S</td>\n      <td>TRAPPIST-1e</td>\n      <td>58.0</td>\n      <td>True</td>\n      <td>43.0</td>\n      <td>3576.0</td>\n      <td>0.0</td>\n      <td>6715.0</td>\n      <td>49.0</td>\n      <td>Altark Susent</td>\n      <td>False</td>\n    </tr>\n    <tr>\n      <th>3</th>\n      <td>0003_02</td>\n      <td>Europa</td>\n      <td>False</td>\n      <td>A/0/S</td>\n      <td>TRAPPIST-1e</td>\n      <td>33.0</td>\n      <td>False</td>\n      <td>0.0</td>\n      <td>1283.0</td>\n      <td>371.0</td>\n      <td>3329.0</td>\n      <td>193.0</td>\n      <td>Solam Susent</td>\n      <td>False</td>\n    </tr>\n    <tr>\n      <th>4</th>\n      <td>0004_01</td>\n      <td>Earth</td>\n      <td>False</td>\n      <td>F/1/S</td>\n      <td>TRAPPIST-1e</td>\n      <td>16.0</td>\n      <td>False</td>\n      <td>303.0</td>\n      <td>70.0</td>\n      <td>151.0</td>\n      <td>565.0</td>\n      <td>2.0</td>\n      <td>Willy Santantines</td>\n      <td>True</td>\n    </tr>\n    <tr>\n      <th>...</th>\n      <td>...</td>\n      <td>...</td>\n      <td>...</td>\n      <td>...</td>\n      <td>...</td>\n      <td>...</td>\n      <td>...</td>\n      <td>...</td>\n      <td>...</td>\n      <td>...</td>\n      <td>...</td>\n      <td>...</td>\n      <td>...</td>\n      <td>...</td>\n    </tr>\n    <tr>\n      <th>8688</th>\n      <td>9276_01</td>\n      <td>Europa</td>\n      <td>False</td>\n      <td>A/98/P</td>\n      <td>55 Cancri e</td>\n      <td>41.0</td>\n      <td>True</td>\n      <td>0.0</td>\n      <td>6819.0</td>\n      <td>0.0</td>\n      <td>1643.0</td>\n      <td>74.0</td>\n      <td>Gravior Noxnuther</td>\n      <td>False</td>\n    </tr>\n    <tr>\n      <th>8689</th>\n      <td>9278_01</td>\n      <td>Earth</td>\n      <td>True</td>\n      <td>G/1499/S</td>\n      <td>PSO J318.5-22</td>\n      <td>18.0</td>\n      <td>False</td>\n      <td>0.0</td>\n      <td>0.0</td>\n      <td>0.0</td>\n      <td>0.0</td>\n      <td>0.0</td>\n      <td>Kurta Mondalley</td>\n      <td>False</td>\n    </tr>\n    <tr>\n      <th>8690</th>\n      <td>9279_01</td>\n      <td>Earth</td>\n      <td>False</td>\n      <td>G/1500/S</td>\n      <td>TRAPPIST-1e</td>\n      <td>26.0</td>\n      <td>False</td>\n      <td>0.0</td>\n      <td>0.0</td>\n      <td>1872.0</td>\n      <td>1.0</td>\n      <td>0.0</td>\n      <td>Fayey Connon</td>\n      <td>True</td>\n    </tr>\n    <tr>\n      <th>8691</th>\n      <td>9280_01</td>\n      <td>Europa</td>\n      <td>False</td>\n      <td>E/608/S</td>\n      <td>55 Cancri e</td>\n      <td>32.0</td>\n      <td>False</td>\n      <td>0.0</td>\n      <td>1049.0</td>\n      <td>0.0</td>\n      <td>353.0</td>\n      <td>3235.0</td>\n      <td>Celeon Hontichre</td>\n      <td>False</td>\n    </tr>\n    <tr>\n      <th>8692</th>\n      <td>9280_02</td>\n      <td>Europa</td>\n      <td>False</td>\n      <td>E/608/S</td>\n      <td>TRAPPIST-1e</td>\n      <td>44.0</td>\n      <td>False</td>\n      <td>126.0</td>\n      <td>4688.0</td>\n      <td>0.0</td>\n      <td>0.0</td>\n      <td>12.0</td>\n      <td>Propsh Hontichre</td>\n      <td>True</td>\n    </tr>\n  </tbody>\n</table>\n<p>8693 rows × 14 columns</p>\n</div>"
     },
     "execution_count": 46,
     "metadata": {},
     "output_type": "execute_result"
    }
   ],
   "source": [
    "data"
   ],
   "metadata": {
    "collapsed": false,
    "pycharm": {
     "name": "#%%\n"
    }
   }
  },
  {
   "cell_type": "markdown",
   "source": [
    "# Features engineering"
   ],
   "metadata": {
    "collapsed": false,
    "pycharm": {
     "name": "#%% md\n"
    }
   }
  },
  {
   "cell_type": "code",
   "execution_count": 47,
   "outputs": [],
   "source": [
    "class TransformBooleanToNumeric(BaseEstimator, TransformerMixin):\n",
    "    def __init__(self, transform_boolean=True):\n",
    "        self.transform_boolean = transform_boolean\n",
    "\n",
    "    def fit(self, X, y=None):\n",
    "        return self\n",
    "\n",
    "    def transform(self, X):\n",
    "        if self.transform_boolean:\n",
    "            X = X.apply(lambda x: x * 1)\n",
    "            return X"
   ],
   "metadata": {
    "collapsed": false,
    "pycharm": {
     "name": "#%%\n"
    }
   }
  },
  {
   "cell_type": "code",
   "execution_count": 51,
   "outputs": [],
   "source": [
    "class TransformCategoricalValues(BaseEstimator, TransformerMixin):\n",
    "    def __init__(self, transform_categorical=True):\n",
    "        self.transform_categorical = transform_categorical\n",
    "\n",
    "    def fit(self, X, y=None):\n",
    "        return self\n",
    "\n",
    "    def transform(self, X):\n",
    "        if self.transform_categorical:\n",
    "            X = X.copy()\n",
    "            X['PassengerGroupId'] = X['PassengerId'].str.split('_', expand=True)[0]\n",
    "            X['PassengerGroupCount'] = X['PassengerId'].str.split('_', expand=True)[1]\n",
    "            X['CabinDesc'] = X['Cabin'].str.split('/', expand=True)[0]\n",
    "            X['CabinNumber'] = X['Cabin'].str.split('/', expand=True)[1]\n",
    "            X['CabinSide'] = X['Cabin'].str.split('/', expand=True)[2]\n",
    "\n",
    "            # X[['PassengerGroupId', 'PassengerGroupCount', 'CabinNumber']] = X[\n",
    "            #     ['PassengerGroupId', 'PassengerGroupCount', 'CabinNumber']].apply(pd.to_numeric)\n",
    "            return X\n",
    "        else:\n",
    "            return X"
   ],
   "metadata": {
    "collapsed": false,
    "pycharm": {
     "name": "#%%\n"
    }
   }
  },
  {
   "cell_type": "code",
   "execution_count": 86,
   "outputs": [],
   "source": [
    "# TODO:\n",
    "# - Сохранять названия метрик при трансформации данных\n",
    "# - Удалять из вывода столбцы \"доноры\"\n",
    "\n",
    "tmp = ColumnTransformer(\n",
    "    transformers=[\n",
    "        ('first', TransformBooleanToNumeric(), ['CryoSleep', 'VIP', 'Transported']),\n",
    "        ('tho', TransformCategoricalValues(), ['PassengerId', 'Cabin'])\n",
    "    ],\n",
    "    verbose_feature_names_out=True,\n",
    "    remainder='passthrough'\n",
    ")\n",
    "x = tmp.fit_transform(data)"
   ],
   "metadata": {
    "collapsed": false,
    "pycharm": {
     "name": "#%%\n"
    }
   }
  },
  {
   "cell_type": "code",
   "execution_count": 87,
   "outputs": [
    {
     "ename": "AttributeError",
     "evalue": "Transformer first (type TransformBooleanToNumeric) does not provide get_feature_names_out.",
     "output_type": "error",
     "traceback": [
      "\u001B[0;31m---------------------------------------------------------------------------\u001B[0m",
      "\u001B[0;31mAttributeError\u001B[0m                            Traceback (most recent call last)",
      "Input \u001B[0;32mIn [87]\u001B[0m, in \u001B[0;36m<cell line: 1>\u001B[0;34m()\u001B[0m\n\u001B[0;32m----> 1\u001B[0m \u001B[43mtmp\u001B[49m\u001B[38;5;241;43m.\u001B[39;49m\u001B[43mget_feature_names_out\u001B[49m\u001B[43m(\u001B[49m\u001B[43m)\u001B[49m\n",
      "File \u001B[0;32m~/PycharmProjects/virtual_environment/venv_3.9/lib/python3.9/site-packages/sklearn/compose/_column_transformer.py:479\u001B[0m, in \u001B[0;36mColumnTransformer.get_feature_names_out\u001B[0;34m(self, input_features)\u001B[0m\n\u001B[1;32m    477\u001B[0m transformer_with_feature_names_out \u001B[38;5;241m=\u001B[39m []\n\u001B[1;32m    478\u001B[0m \u001B[38;5;28;01mfor\u001B[39;00m name, trans, column, _ \u001B[38;5;129;01min\u001B[39;00m \u001B[38;5;28mself\u001B[39m\u001B[38;5;241m.\u001B[39m_iter(fitted\u001B[38;5;241m=\u001B[39m\u001B[38;5;28;01mTrue\u001B[39;00m):\n\u001B[0;32m--> 479\u001B[0m     feature_names_out \u001B[38;5;241m=\u001B[39m \u001B[38;5;28;43mself\u001B[39;49m\u001B[38;5;241;43m.\u001B[39;49m\u001B[43m_get_feature_name_out_for_transformer\u001B[49m\u001B[43m(\u001B[49m\n\u001B[1;32m    480\u001B[0m \u001B[43m        \u001B[49m\u001B[43mname\u001B[49m\u001B[43m,\u001B[49m\u001B[43m \u001B[49m\u001B[43mtrans\u001B[49m\u001B[43m,\u001B[49m\u001B[43m \u001B[49m\u001B[43mcolumn\u001B[49m\u001B[43m,\u001B[49m\u001B[43m \u001B[49m\u001B[43minput_features\u001B[49m\n\u001B[1;32m    481\u001B[0m \u001B[43m    \u001B[49m\u001B[43m)\u001B[49m\n\u001B[1;32m    482\u001B[0m     \u001B[38;5;28;01mif\u001B[39;00m feature_names_out \u001B[38;5;129;01mis\u001B[39;00m \u001B[38;5;28;01mNone\u001B[39;00m:\n\u001B[1;32m    483\u001B[0m         \u001B[38;5;28;01mcontinue\u001B[39;00m\n",
      "File \u001B[0;32m~/PycharmProjects/virtual_environment/venv_3.9/lib/python3.9/site-packages/sklearn/compose/_column_transformer.py:447\u001B[0m, in \u001B[0;36mColumnTransformer._get_feature_name_out_for_transformer\u001B[0;34m(self, name, trans, column, feature_names_in)\u001B[0m\n\u001B[1;32m    445\u001B[0m \u001B[38;5;66;03m# An actual transformer\u001B[39;00m\n\u001B[1;32m    446\u001B[0m \u001B[38;5;28;01mif\u001B[39;00m \u001B[38;5;129;01mnot\u001B[39;00m \u001B[38;5;28mhasattr\u001B[39m(trans, \u001B[38;5;124m\"\u001B[39m\u001B[38;5;124mget_feature_names_out\u001B[39m\u001B[38;5;124m\"\u001B[39m):\n\u001B[0;32m--> 447\u001B[0m     \u001B[38;5;28;01mraise\u001B[39;00m \u001B[38;5;167;01mAttributeError\u001B[39;00m(\n\u001B[1;32m    448\u001B[0m         \u001B[38;5;124mf\u001B[39m\u001B[38;5;124m\"\u001B[39m\u001B[38;5;124mTransformer \u001B[39m\u001B[38;5;132;01m{\u001B[39;00mname\u001B[38;5;132;01m}\u001B[39;00m\u001B[38;5;124m (type \u001B[39m\u001B[38;5;132;01m{\u001B[39;00m\u001B[38;5;28mtype\u001B[39m(trans)\u001B[38;5;241m.\u001B[39m\u001B[38;5;18m__name__\u001B[39m\u001B[38;5;132;01m}\u001B[39;00m\u001B[38;5;124m) does \u001B[39m\u001B[38;5;124m\"\u001B[39m\n\u001B[1;32m    449\u001B[0m         \u001B[38;5;124m\"\u001B[39m\u001B[38;5;124mnot provide get_feature_names_out.\u001B[39m\u001B[38;5;124m\"\u001B[39m\n\u001B[1;32m    450\u001B[0m     )\n\u001B[1;32m    451\u001B[0m \u001B[38;5;28;01mreturn\u001B[39;00m trans\u001B[38;5;241m.\u001B[39mget_feature_names_out(names)\n",
      "\u001B[0;31mAttributeError\u001B[0m: Transformer first (type TransformBooleanToNumeric) does not provide get_feature_names_out."
     ]
    }
   ],
   "source": [
    "tmp.get_feature_names_out()"
   ],
   "metadata": {
    "collapsed": false,
    "pycharm": {
     "name": "#%%\n"
    }
   }
  },
  {
   "cell_type": "code",
   "execution_count": 18,
   "outputs": [],
   "source": [
    "# # Костыль :(\n",
    "# def prepared_raw_data(data):\n",
    "#\n",
    "#     transform_boolean = TransformBooleanToNumeric()\n",
    "#     transform_categorical = TransformCategoricalValues()\n",
    "#     data_prepared = transform_boolean.transform(data)\n",
    "#     data_prepared = transform_categorical.transform(data_prepared)\n",
    "#\n",
    "#     return data_prepared"
   ],
   "metadata": {
    "collapsed": false,
    "pycharm": {
     "name": "#%%\n"
    }
   }
  },
  {
   "cell_type": "code",
   "execution_count": 19,
   "outputs": [],
   "source": [
    "# data_prepared = prepared_raw_data(data)\n",
    "# data_prepared.set_index('PassengerId', inplace=True)\n",
    "# data_prepared.drop(['Cabin'], axis=1, inplace=True)\n",
    "# data_prepared"
   ],
   "metadata": {
    "collapsed": false,
    "pycharm": {
     "name": "#%%\n"
    }
   }
  },
  {
   "cell_type": "code",
   "execution_count": 8,
   "outputs": [],
   "source": [
    "categorical_features = ['HomePlanet', 'Destination', 'CabinDesc', 'CabinSide', 'Transported']\n",
    "numeric_features = ['CryoSleep', 'VIP', 'PassengerGroupId', 'PassengerGroupCount', 'CabinNumber', 'Age', 'RoomService',\n",
    "                    'FoodCourt', 'ShoppingMall', 'Spa', 'VRDeck', ]"
   ],
   "metadata": {
    "collapsed": false,
    "pycharm": {
     "name": "#%%\n"
    }
   }
  },
  {
   "cell_type": "code",
   "execution_count": 9,
   "outputs": [],
   "source": [
    "numeric_pipeline = Pipeline(\n",
    "    steps=[('imputer', SimpleImputer(strategy='median')),\n",
    "           # ('std_scaler', StandardScaler())\n",
    "           ]\n",
    ")\n",
    "\n",
    "categorical_pipeline = Pipeline(\n",
    "    steps=[('no_data', SimpleImputer(strategy='most_frequent'))]\n",
    ")\n",
    "\n",
    "preprocessor = ColumnTransformer(\n",
    "    transformers=[('num', numeric_pipeline, numeric_features),\n",
    "                  ('cat', categorical_pipeline, categorical_features)],\n",
    "    verbose_feature_names_out=False, remainder='passthrough'\n",
    ")"
   ],
   "metadata": {
    "collapsed": false,
    "pycharm": {
     "name": "#%%\n"
    }
   }
  },
  {
   "cell_type": "code",
   "execution_count": 10,
   "outputs": [],
   "source": [
    "# Костыль :(\n",
    "def prepared_data(data):\n",
    "    num_data = numeric_pipeline.fit_transform(data[numeric_features])\n",
    "    num_data = pd.DataFrame(num_data, columns=numeric_pipeline.get_feature_names_out(), index=data.index)\n",
    "    cat_data = categorical_pipeline.fit_transform(data[categorical_features])\n",
    "    cat_data = pd.DataFrame(cat_data, columns=categorical_pipeline.get_feature_names_out(), index=data.index)\n",
    "\n",
    "    result = pd.concat([num_data, cat_data], axis=1)\n",
    "\n",
    "    return result"
   ],
   "metadata": {
    "collapsed": false,
    "pycharm": {
     "name": "#%%\n"
    }
   }
  },
  {
   "cell_type": "code",
   "execution_count": 11,
   "outputs": [],
   "source": [
    "data_prepared = prepared_data(data_prepared)"
   ],
   "metadata": {
    "collapsed": false,
    "pycharm": {
     "name": "#%%\n"
    }
   }
  },
  {
   "cell_type": "code",
   "execution_count": 14,
   "outputs": [],
   "source": [
    "# Костыль\n",
    "data_prepared[['CryoSleep', 'VIP', 'PassengerGroupId', 'PassengerGroupCount', 'CabinNumber', ]] = data_prepared[\n",
    "    ['CryoSleep', 'VIP', 'PassengerGroupId', 'PassengerGroupCount', 'CabinNumber', ]].astype('int')"
   ],
   "metadata": {
    "collapsed": false,
    "pycharm": {
     "name": "#%%\n"
    }
   }
  },
  {
   "cell_type": "code",
   "execution_count": 15,
   "outputs": [
    {
     "data": {
      "text/plain": "             CryoSleep  VIP  PassengerGroupId  PassengerGroupCount  \\\nPassengerId                                                          \n0001_01              0    0                 1                    1   \n0002_01              0    0                 2                    1   \n0003_01              0    1                 3                    1   \n0003_02              0    0                 3                    2   \n0004_01              0    0                 4                    1   \n...                ...  ...               ...                  ...   \n9276_01              0    1              9276                    1   \n9278_01              1    0              9278                    1   \n9279_01              0    0              9279                    1   \n9280_01              0    0              9280                    1   \n9280_02              0    0              9280                    2   \n\n             CabinNumber   Age  RoomService  FoodCourt  ShoppingMall     Spa  \\\nPassengerId                                                                    \n0001_01                0  39.0          0.0        0.0           0.0     0.0   \n0002_01                0  24.0        109.0        9.0          25.0   549.0   \n0003_01                0  58.0         43.0     3576.0           0.0  6715.0   \n0003_02                0  33.0          0.0     1283.0         371.0  3329.0   \n0004_01                1  16.0        303.0       70.0         151.0   565.0   \n...                  ...   ...          ...        ...           ...     ...   \n9276_01               98  41.0          0.0     6819.0           0.0  1643.0   \n9278_01             1499  18.0          0.0        0.0           0.0     0.0   \n9279_01             1500  26.0          0.0        0.0        1872.0     1.0   \n9280_01              608  32.0          0.0     1049.0           0.0   353.0   \n9280_02              608  44.0        126.0     4688.0           0.0     0.0   \n\n             VRDeck HomePlanet    Destination CabinDesc CabinSide Transported  \nPassengerId                                                                    \n0001_01         0.0     Europa    TRAPPIST-1e         B         P           0  \n0002_01        44.0      Earth    TRAPPIST-1e         F         S           1  \n0003_01        49.0     Europa    TRAPPIST-1e         A         S           0  \n0003_02       193.0     Europa    TRAPPIST-1e         A         S           0  \n0004_01         2.0      Earth    TRAPPIST-1e         F         S           1  \n...             ...        ...            ...       ...       ...         ...  \n9276_01        74.0     Europa    55 Cancri e         A         P           0  \n9278_01         0.0      Earth  PSO J318.5-22         G         S           0  \n9279_01         0.0      Earth    TRAPPIST-1e         G         S           1  \n9280_01      3235.0     Europa    55 Cancri e         E         S           0  \n9280_02        12.0     Europa    TRAPPIST-1e         E         S           1  \n\n[8693 rows x 16 columns]",
      "text/html": "<div>\n<style scoped>\n    .dataframe tbody tr th:only-of-type {\n        vertical-align: middle;\n    }\n\n    .dataframe tbody tr th {\n        vertical-align: top;\n    }\n\n    .dataframe thead th {\n        text-align: right;\n    }\n</style>\n<table border=\"1\" class=\"dataframe\">\n  <thead>\n    <tr style=\"text-align: right;\">\n      <th></th>\n      <th>CryoSleep</th>\n      <th>VIP</th>\n      <th>PassengerGroupId</th>\n      <th>PassengerGroupCount</th>\n      <th>CabinNumber</th>\n      <th>Age</th>\n      <th>RoomService</th>\n      <th>FoodCourt</th>\n      <th>ShoppingMall</th>\n      <th>Spa</th>\n      <th>VRDeck</th>\n      <th>HomePlanet</th>\n      <th>Destination</th>\n      <th>CabinDesc</th>\n      <th>CabinSide</th>\n      <th>Transported</th>\n    </tr>\n    <tr>\n      <th>PassengerId</th>\n      <th></th>\n      <th></th>\n      <th></th>\n      <th></th>\n      <th></th>\n      <th></th>\n      <th></th>\n      <th></th>\n      <th></th>\n      <th></th>\n      <th></th>\n      <th></th>\n      <th></th>\n      <th></th>\n      <th></th>\n      <th></th>\n    </tr>\n  </thead>\n  <tbody>\n    <tr>\n      <th>0001_01</th>\n      <td>0</td>\n      <td>0</td>\n      <td>1</td>\n      <td>1</td>\n      <td>0</td>\n      <td>39.0</td>\n      <td>0.0</td>\n      <td>0.0</td>\n      <td>0.0</td>\n      <td>0.0</td>\n      <td>0.0</td>\n      <td>Europa</td>\n      <td>TRAPPIST-1e</td>\n      <td>B</td>\n      <td>P</td>\n      <td>0</td>\n    </tr>\n    <tr>\n      <th>0002_01</th>\n      <td>0</td>\n      <td>0</td>\n      <td>2</td>\n      <td>1</td>\n      <td>0</td>\n      <td>24.0</td>\n      <td>109.0</td>\n      <td>9.0</td>\n      <td>25.0</td>\n      <td>549.0</td>\n      <td>44.0</td>\n      <td>Earth</td>\n      <td>TRAPPIST-1e</td>\n      <td>F</td>\n      <td>S</td>\n      <td>1</td>\n    </tr>\n    <tr>\n      <th>0003_01</th>\n      <td>0</td>\n      <td>1</td>\n      <td>3</td>\n      <td>1</td>\n      <td>0</td>\n      <td>58.0</td>\n      <td>43.0</td>\n      <td>3576.0</td>\n      <td>0.0</td>\n      <td>6715.0</td>\n      <td>49.0</td>\n      <td>Europa</td>\n      <td>TRAPPIST-1e</td>\n      <td>A</td>\n      <td>S</td>\n      <td>0</td>\n    </tr>\n    <tr>\n      <th>0003_02</th>\n      <td>0</td>\n      <td>0</td>\n      <td>3</td>\n      <td>2</td>\n      <td>0</td>\n      <td>33.0</td>\n      <td>0.0</td>\n      <td>1283.0</td>\n      <td>371.0</td>\n      <td>3329.0</td>\n      <td>193.0</td>\n      <td>Europa</td>\n      <td>TRAPPIST-1e</td>\n      <td>A</td>\n      <td>S</td>\n      <td>0</td>\n    </tr>\n    <tr>\n      <th>0004_01</th>\n      <td>0</td>\n      <td>0</td>\n      <td>4</td>\n      <td>1</td>\n      <td>1</td>\n      <td>16.0</td>\n      <td>303.0</td>\n      <td>70.0</td>\n      <td>151.0</td>\n      <td>565.0</td>\n      <td>2.0</td>\n      <td>Earth</td>\n      <td>TRAPPIST-1e</td>\n      <td>F</td>\n      <td>S</td>\n      <td>1</td>\n    </tr>\n    <tr>\n      <th>...</th>\n      <td>...</td>\n      <td>...</td>\n      <td>...</td>\n      <td>...</td>\n      <td>...</td>\n      <td>...</td>\n      <td>...</td>\n      <td>...</td>\n      <td>...</td>\n      <td>...</td>\n      <td>...</td>\n      <td>...</td>\n      <td>...</td>\n      <td>...</td>\n      <td>...</td>\n      <td>...</td>\n    </tr>\n    <tr>\n      <th>9276_01</th>\n      <td>0</td>\n      <td>1</td>\n      <td>9276</td>\n      <td>1</td>\n      <td>98</td>\n      <td>41.0</td>\n      <td>0.0</td>\n      <td>6819.0</td>\n      <td>0.0</td>\n      <td>1643.0</td>\n      <td>74.0</td>\n      <td>Europa</td>\n      <td>55 Cancri e</td>\n      <td>A</td>\n      <td>P</td>\n      <td>0</td>\n    </tr>\n    <tr>\n      <th>9278_01</th>\n      <td>1</td>\n      <td>0</td>\n      <td>9278</td>\n      <td>1</td>\n      <td>1499</td>\n      <td>18.0</td>\n      <td>0.0</td>\n      <td>0.0</td>\n      <td>0.0</td>\n      <td>0.0</td>\n      <td>0.0</td>\n      <td>Earth</td>\n      <td>PSO J318.5-22</td>\n      <td>G</td>\n      <td>S</td>\n      <td>0</td>\n    </tr>\n    <tr>\n      <th>9279_01</th>\n      <td>0</td>\n      <td>0</td>\n      <td>9279</td>\n      <td>1</td>\n      <td>1500</td>\n      <td>26.0</td>\n      <td>0.0</td>\n      <td>0.0</td>\n      <td>1872.0</td>\n      <td>1.0</td>\n      <td>0.0</td>\n      <td>Earth</td>\n      <td>TRAPPIST-1e</td>\n      <td>G</td>\n      <td>S</td>\n      <td>1</td>\n    </tr>\n    <tr>\n      <th>9280_01</th>\n      <td>0</td>\n      <td>0</td>\n      <td>9280</td>\n      <td>1</td>\n      <td>608</td>\n      <td>32.0</td>\n      <td>0.0</td>\n      <td>1049.0</td>\n      <td>0.0</td>\n      <td>353.0</td>\n      <td>3235.0</td>\n      <td>Europa</td>\n      <td>55 Cancri e</td>\n      <td>E</td>\n      <td>S</td>\n      <td>0</td>\n    </tr>\n    <tr>\n      <th>9280_02</th>\n      <td>0</td>\n      <td>0</td>\n      <td>9280</td>\n      <td>2</td>\n      <td>608</td>\n      <td>44.0</td>\n      <td>126.0</td>\n      <td>4688.0</td>\n      <td>0.0</td>\n      <td>0.0</td>\n      <td>12.0</td>\n      <td>Europa</td>\n      <td>TRAPPIST-1e</td>\n      <td>E</td>\n      <td>S</td>\n      <td>1</td>\n    </tr>\n  </tbody>\n</table>\n<p>8693 rows × 16 columns</p>\n</div>"
     },
     "execution_count": 15,
     "metadata": {},
     "output_type": "execute_result"
    }
   ],
   "source": [
    "data_prepared"
   ],
   "metadata": {
    "collapsed": false,
    "pycharm": {
     "name": "#%%\n"
    }
   }
  },
  {
   "cell_type": "code",
   "execution_count": 16,
   "outputs": [],
   "source": [
    "# Save features\n",
    "features_path = '../data/processed/featured_spaceship-titanic.csv'\n",
    "data_prepared.to_csv(features_path, index=False)"
   ],
   "metadata": {
    "collapsed": false,
    "pycharm": {
     "name": "#%%\n"
    }
   }
  },
  {
   "cell_type": "markdown",
   "source": [
    "# Split dataset"
   ],
   "metadata": {
    "collapsed": false,
    "pycharm": {
     "name": "#%% md\n"
    }
   }
  },
  {
   "cell_type": "code",
   "execution_count": 18,
   "outputs": [],
   "source": [
    "train_set, validation_set = train_test_split(data_prepared, train_size=0.85, random_state=42,\n",
    "                                             stratify=data_prepared['Transported'])"
   ],
   "metadata": {
    "collapsed": false,
    "pycharm": {
     "name": "#%%\n"
    }
   }
  },
  {
   "cell_type": "code",
   "execution_count": 19,
   "outputs": [],
   "source": [
    "# Save train and test sets\n",
    "train_set_path = '../data/processed/train_spaceship-titanic.csv'\n",
    "validation_set_path = '../data/processed/validation_spaceship-titanic.csv'\n",
    "\n",
    "train_set.to_csv(train_set_path)\n",
    "validation_set.to_csv(validation_set_path)"
   ],
   "metadata": {
    "collapsed": false,
    "pycharm": {
     "name": "#%%\n"
    }
   }
  },
  {
   "cell_type": "markdown",
   "source": [
    "# Train"
   ],
   "metadata": {
    "collapsed": false,
    "pycharm": {
     "name": "#%% md\n"
    }
   }
  },
  {
   "cell_type": "code",
   "execution_count": 21,
   "outputs": [],
   "source": [
    "X = ['CryoSleep', 'VIP', 'PassengerGroupId', 'PassengerGroupCount',\n",
    "     'CabinNumber', 'Age', 'RoomService', 'FoodCourt', 'ShoppingMall', 'Spa',\n",
    "     'VRDeck', 'HomePlanet', 'Destination', 'CabinDesc', 'CabinSide']\n",
    "cat_features = ['CryoSleep', 'VIP', 'PassengerGroupId', 'PassengerGroupCount', 'CabinNumber', 'HomePlanet',\n",
    "                'Destination', 'CabinDesc', 'CabinSide']\n",
    "text_features = []\n",
    "y = ['Transported']"
   ],
   "metadata": {
    "collapsed": false,
    "pycharm": {
     "name": "#%%\n"
    }
   }
  },
  {
   "cell_type": "code",
   "execution_count": 22,
   "outputs": [],
   "source": [
    "train_data = Pool(data=train_set[X],\n",
    "                  label=train_set[y],\n",
    "                  cat_features=cat_features,\n",
    "                  text_features=text_features\n",
    "                  )\n",
    "\n",
    "valid_data = Pool(data=validation_set[X],\n",
    "                  label=validation_set[y],\n",
    "                  cat_features=cat_features,\n",
    "                  text_features=text_features\n",
    "                  )"
   ],
   "metadata": {
    "collapsed": false,
    "pycharm": {
     "name": "#%%\n"
    }
   }
  },
  {
   "cell_type": "code",
   "execution_count": 23,
   "outputs": [],
   "source": [
    "params = {'verbose': 100,\n",
    "          'random_seed': 42,\n",
    "          'learning_rate': 0.01,\n",
    "          'eval_metric': 'Accuracy'}"
   ],
   "metadata": {
    "collapsed": false,
    "pycharm": {
     "name": "#%%\n"
    }
   }
  },
  {
   "cell_type": "code",
   "execution_count": 24,
   "outputs": [],
   "source": [
    "model = CatBoostClassifier(**params)"
   ],
   "metadata": {
    "collapsed": false,
    "pycharm": {
     "name": "#%%\n"
    }
   }
  },
  {
   "cell_type": "code",
   "execution_count": 25,
   "outputs": [
    {
     "name": "stdout",
     "output_type": "stream",
     "text": [
      "0:\tlearn: 0.7386656\ttest: 0.7285276\tbest: 0.7285276 (0)\ttotal: 65.1ms\tremaining: 1m 5s\n",
      "100:\tlearn: 0.7957775\ttest: 0.7806748\tbest: 0.7806748 (98)\ttotal: 1.15s\tremaining: 10.2s\n",
      "200:\tlearn: 0.8033563\ttest: 0.7929448\tbest: 0.7937117 (177)\ttotal: 3.81s\tremaining: 15.1s\n",
      "300:\tlearn: 0.8087698\ttest: 0.7944785\tbest: 0.7952454 (286)\ttotal: 5.17s\tremaining: 12s\n",
      "400:\tlearn: 0.8113412\ttest: 0.7952454\tbest: 0.7975460 (348)\ttotal: 5.86s\tremaining: 8.75s\n",
      "500:\tlearn: 0.8129652\ttest: 0.7960123\tbest: 0.7975460 (348)\ttotal: 6.55s\tremaining: 6.53s\n",
      "600:\tlearn: 0.8141832\ttest: 0.7944785\tbest: 0.7975460 (348)\ttotal: 7.48s\tremaining: 4.96s\n",
      "700:\tlearn: 0.8160780\ttest: 0.7983129\tbest: 0.7998466 (640)\ttotal: 9.44s\tremaining: 4.03s\n",
      "800:\tlearn: 0.8185140\ttest: 0.8021472\tbest: 0.8021472 (796)\ttotal: 11.1s\tremaining: 2.75s\n",
      "900:\tlearn: 0.8213561\ttest: 0.8021472\tbest: 0.8044479 (864)\ttotal: 12.1s\tremaining: 1.33s\n",
      "999:\tlearn: 0.8241981\ttest: 0.8036810\tbest: 0.8044479 (864)\ttotal: 12.8s\tremaining: 0us\n",
      "\n",
      "bestTest = 0.8044478528\n",
      "bestIteration = 864\n",
      "\n",
      "Shrink model to first 865 iterations.\n"
     ]
    },
    {
     "data": {
      "text/plain": "<catboost.core.CatBoostClassifier at 0x28c554550>"
     },
     "execution_count": 25,
     "metadata": {},
     "output_type": "execute_result"
    }
   ],
   "source": [
    "model.fit(train_data, eval_set=valid_data)"
   ],
   "metadata": {
    "collapsed": false,
    "pycharm": {
     "name": "#%%\n"
    }
   }
  },
  {
   "cell_type": "code",
   "execution_count": 27,
   "outputs": [
    {
     "data": {
      "text/plain": "['../models/model.joblib']"
     },
     "execution_count": 27,
     "metadata": {},
     "output_type": "execute_result"
    }
   ],
   "source": [
    "model_path = '../models/model.joblib'\n",
    "joblib.dump(model, model_path)"
   ],
   "metadata": {
    "collapsed": false,
    "pycharm": {
     "name": "#%%\n"
    }
   }
  },
  {
   "cell_type": "markdown",
   "source": [
    "# Evaluate"
   ],
   "metadata": {
    "collapsed": false,
    "pycharm": {
     "name": "#%% md\n"
    }
   }
  },
  {
   "cell_type": "code",
   "execution_count": 41,
   "outputs": [
    {
     "data": {
      "text/plain": "{'learn': {'Accuracy': 0.8244688049803762, 'Logloss': 0.38164370247464685},\n 'validation': {'Accuracy': 0.8044478527607362,\n  'Logloss': 0.40142678500743273}}"
     },
     "execution_count": 41,
     "metadata": {},
     "output_type": "execute_result"
    }
   ],
   "source": [
    "model.get_best_score()"
   ],
   "metadata": {
    "collapsed": false,
    "pycharm": {
     "name": "#%%\n"
    }
   }
  },
  {
   "cell_type": "code",
   "execution_count": 55,
   "outputs": [],
   "source": [
    "# Save metrics\n",
    "metrics_file = '../reports/metrics.json'\n",
    "\n",
    "with open(metrics_file, 'w') as mf:\n",
    "    json.dump(\n",
    "        obj=model.get_best_score(),\n",
    "        fp=mf,\n",
    "        # indent=4\n",
    "    )"
   ],
   "metadata": {
    "collapsed": false,
    "pycharm": {
     "name": "#%%\n"
    }
   }
  },
  {
   "cell_type": "code",
   "execution_count": 59,
   "outputs": [],
   "source": [],
   "metadata": {
    "collapsed": false,
    "pycharm": {
     "name": "#%%\n"
    }
   }
  },
  {
   "cell_type": "code",
   "execution_count": 53,
   "outputs": [],
   "source": [],
   "metadata": {
    "collapsed": false,
    "pycharm": {
     "name": "#%%\n"
    }
   }
  },
  {
   "cell_type": "code",
   "execution_count": null,
   "outputs": [],
   "source": [],
   "metadata": {
    "collapsed": false,
    "pycharm": {
     "name": "#%%\n"
    }
   }
  },
  {
   "cell_type": "code",
   "execution_count": null,
   "outputs": [],
   "source": [],
   "metadata": {
    "collapsed": false,
    "pycharm": {
     "name": "#%%\n"
    }
   }
  },
  {
   "cell_type": "code",
   "execution_count": null,
   "outputs": [],
   "source": [],
   "metadata": {
    "collapsed": false,
    "pycharm": {
     "name": "#%%\n"
    }
   }
  }
 ],
 "metadata": {
  "kernelspec": {
   "display_name": "Python 3",
   "language": "python",
   "name": "python3"
  },
  "language_info": {
   "codemirror_mode": {
    "name": "ipython",
    "version": 2
   },
   "file_extension": ".py",
   "mimetype": "text/x-python",
   "name": "python",
   "nbconvert_exporter": "python",
   "pygments_lexer": "ipython2",
   "version": "2.7.6"
  }
 },
 "nbformat": 4,
 "nbformat_minor": 0
}